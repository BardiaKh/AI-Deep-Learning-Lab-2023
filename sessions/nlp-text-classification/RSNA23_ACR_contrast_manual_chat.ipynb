{
  "cells": [
    {
      "cell_type": "markdown",
      "metadata": {
        "id": "view-in-github",
        "colab_type": "text"
      },
      "source": [
        "<a href=\"https://colab.research.google.com/github/RSNA/AI-Deep-Learning-Lab-2023/blob/main/sessions/nlp-text-classification/RSNA23_ACR_contrast_manual_chat.ipynb\" target=\"_parent\"><img src=\"https://colab.research.google.com/assets/colab-badge.svg\" alt=\"Open In Colab\"/></a>"
      ]
    },
    {
      "cell_type": "markdown",
      "source": [
        "# RSNA 2023: Deep Learning Lab\n",
        "## Chat with the ACR Contrast Manual\n",
        "### Using LLMs and retrieval-augmented generation (RAG)\n",
        "\n",
        "`Retrieval-augmented generation (RAG)` is a method of querying existing data to improve the responses of large language models (LLMs) to questions requiring factual and/or specialized knowledge.\n",
        "\n",
        "RAG is a two-step process where relevant information is first retrieved from a special database, called a `vector database`, that stores `chunks` of text along with the embeddings of that text, typically from a Transformer or LLM.\n",
        "\n",
        "Encoding a question or prompt from a user with the same model used to generate the embeddings for the vector DB, one can use `similarity search` to find relevant chunks of text that can then be presented to an LLM as part of the prompt including the original question.\n",
        "\n",
        "In this way, you can \"chat\" with any document or database you like. One popular application of this is `manual-as-a-service`.\n",
        "\n",
        "## Module Overview\n",
        "In this module, we will:\n",
        "1. Split the [ACR Contrast Manual](https://www.acr.org/-/media/ACR/Files/Clinical-Resources/Contrast_Media.pdf) into chunks.\n",
        "2. Create embeddings for the chunks with the MedCPT Article Encoder.\n",
        "3. Store the `chunk:embedding` pairs in a vector DB.\n",
        "4. Set up a RAG Q&A pipeline with the `LlamaIndex` framework.\n",
        "5. Test out our RAG Q&A pipeline to \"chat\" with the ACR Contrast Manual.\n",
        "\n",
        "## References\n",
        "* https://www.promptingguide.ai/techniques/rag\n",
        "* MedCPT ArXiv paper: https://arxiv.org/abs/2307.00589\n",
        "    - MedCPT Article Encoder on Hugging Face: https://huggingface.co/ncbi/MedCPT-Article-Encoder\n",
        "* LlamaIndex LLM Application Framework: https://docs.llamaindex.ai/en/stable/index.html\n",
        "    - LlamaIndex `llama-cpp-python` Integration: https://docs.llamaindex.ai/en/stable/examples/llm/llama_2_llama_cpp.html\n",
        "* Llama2-7B-Chat on Hugging Face: https://huggingface.co/TheBloke/Llama-2-7B-Chat-GGUF"
      ],
      "metadata": {
        "id": "h_cv-hTQ3xyK"
      }
    },
    {
      "cell_type": "code",
      "execution_count": null,
      "metadata": {
        "id": "BpgwqBRFM1UZ",
        "cellView": "form"
      },
      "outputs": [],
      "source": [
        "# @title Installing required libraries\n",
        "# @markdown This cell will take approximately 4 minutes to run.<br><br>When the cell finishes running the `Runtime` will be restarted. This will appear as an error saying that your session crashed for an unknown reason.\n",
        "# @markdown <br><br>Don't worry. This is expected.\n",
        "\n",
        "%%capture\n",
        "!pip uninstall numpy -y\n",
        "!pip install numpy==1.25\n",
        "!CMAKE_ARGS=\"-DLLAMA_CUBLAS=on\" FORCE_CMAKE=1 pip install llama-cpp-python==0.2.11 --force-reinstall --upgrade --no-cache-dir\n",
        "!pip install -U \\\n",
        "    llama-index==0.8.69.post2 \\\n",
        "    huggingface-hub==0.19.3 \\\n",
        "    transformers==4.35.2 \\\n",
        "    pypdf==3.17.1\n",
        "\n",
        "import os\n",
        "os.kill(os.getpid(), 9)"
      ]
    },
    {
      "cell_type": "code",
      "execution_count": 1,
      "metadata": {
        "id": "nGFaysDlRSN1"
      },
      "outputs": [],
      "source": [
        "# @title Import the necessary libraries and functions\n",
        "from llama_index import VectorStoreIndex, ServiceContext\n",
        "from llama_index.readers import PDFReader\n",
        "from llama_index.embeddings import HuggingFaceEmbedding\n",
        "from llama_index.llms import LlamaCPP\n",
        "from llama_index.llms.llama_utils import messages_to_prompt, completion_to_prompt\n",
        "\n",
        "from pathlib import Path"
      ]
    },
    {
      "cell_type": "code",
      "execution_count": 2,
      "metadata": {
        "id": "5Mj9DP1UR-x7"
      },
      "outputs": [],
      "source": [
        "# @title Download the ACR Contrast Manual\n",
        "\n",
        "!mkdir pdfs\n",
        "!wget -qP /content/pdfs https://www.acr.org/-/media/ACR/Files/Clinical-Resources/Contrast_Media.pdf\n",
        "# !wget -qP /content/pdfs https://www.acr.org/-/media/ACR/Files/Radiology-Safety/MR-Safety/Manual-on-MR-Safety.pdf"
      ]
    },
    {
      "cell_type": "code",
      "execution_count": 3,
      "metadata": {
        "id": "6Y8tnGuzT1sZ"
      },
      "outputs": [],
      "source": [
        "# @title Load the PDF\n",
        "\n",
        "pdf_folder_path = Path(\"/content/pdfs\")\n",
        "documents = PDFReader().load_data(pdf_folder_path/\"Contrast_Media.pdf\")\n",
        "# documents = [PDFReader().load_data(pdf_folder_path/fn) for fn in list(pdf_folder_path.glob('**/*.pdf'))]"
      ]
    },
    {
      "cell_type": "code",
      "source": [
        "# @title Obtain our embedding model from Hugging Face Hub\n",
        "\n",
        "embed_model = HuggingFaceEmbedding(model_name=\"ncbi/MedCPT-Article-Encoder\")"
      ],
      "metadata": {
        "colab": {
          "base_uri": "https://localhost:8080/",
          "height": 241,
          "referenced_widgets": [
            "cf474e0e30954ceb977f1759caf18eb6",
            "64c88fd138564ddb8295d2fdb5d56f45",
            "8f57c6041ccb488dbe5adeb37aff2ab0",
            "823c5cadf86c4a15ae7fb796cb70136e",
            "36adc97dea95498e850e50a021955e99",
            "1221ed58fa18401b8a12e58df1e74834",
            "cc47e5fcbc0e4354bcf68a8a6f08938c",
            "62f0100dbfc748f9be24494217c841bb",
            "08ecdbf4d87c4ce9a4b32bb9f73ec788",
            "cf475a8cd79943969d6553027b12a576",
            "4c690839a3ef4e129e6c6eed25a83328",
            "0dd2f771ad374ebaac87cbd9480b771f",
            "84fdbf1564734905b55cc7c0e6cde5cf",
            "ce7ce7895cac42c3a18934e593c0a6f1",
            "72275514c0bd4df293394cee9a3afc38",
            "14a907c284e4471cb23969a35d8c6271",
            "a93f51e232e84a9a943e515d0f54e693",
            "13aa81dce35e4de8be8c1f958d2cb302",
            "fed45f7e52ce44678632a9dedc798c0b",
            "fe3b6a8c3e8c47f8b504e290418d82b7",
            "3364fed58b614c52835df406547a31f3",
            "753b3c424fc049b199e9eee8bb9811f2",
            "54ae571e7d5d442480b197445ba4d5c1",
            "0772da11e25b426194292bafd1b3e18e",
            "31548852119c405d86f1de7176398e69",
            "6b5550a3bf56439a9ab724c0bfcde071",
            "f394ba2a83944a03a5473f3a5e95d232",
            "13bd015cb9624071aaa72e89d877f73d",
            "4ffd34a61ee345e6b7fab8bc9f6808a2",
            "ccfc3c0d70ff43de946275db32a2bda6",
            "57b9e86a06374f57a21c9c937fbaf57f",
            "c3c327f307a141f59440c22e287be4a5",
            "dfcb4ca1332b429bbbabccd1417bfd46",
            "37ffb899b28c41cca152fe2a0cc3ea47",
            "610285a14ca84feda1073923c1ea2231",
            "d3fdd3d7ca1b4bd5818a8fec2227adc9",
            "b50d29c85c264c58b54a9dad8126cc05",
            "2717191e23b443ae8843dd57e6ed52b3",
            "6c5da528a3fe49c496e5a2f3cffcc89d",
            "9f01911b5b604d6593b6b06575f376cd",
            "baa1f6f144034b91912939c88c83492a",
            "fdd060f3c4ef47bc90db2c4b216d540a",
            "d4f716e4d3d74a42ac135b973b728f8e",
            "14ee63c26c8e4a7d92a8cb3a0f0ba562",
            "2609a9792d0c4cadbe1ff10baf61e736",
            "e07b4e9700df4122a3a4473666a91281",
            "c1dd93f15ec24e9d8e61061f11d47bc2",
            "44dcc8f11d3a4c7a827a421296558b6a",
            "211580d464b14496a8a822b76808c833",
            "c26a3af8f2ee47c3a536fb0edde073fc",
            "39f842a9e606407bb1f136d72a163785",
            "4c73b8baa71e44c4ba98de592f045373",
            "6b913a2ce2c04d579f383a3a2d626e98",
            "691c21e974044e10aa7a44f37132148c",
            "f593cef9f8ef4f389ea30d8d0396ce28",
            "5f5542b4c86d4a32ad254576d5c0a5b8",
            "84af8225d4f84f778f258c3719e6c1d3",
            "2beabc1444994093af219dd0c5e0c226",
            "1391d7d32b374a80bce2a4155a629845",
            "d46f47e597a34ff9ad3bf0b5ca5876d7",
            "a1668b135e8142f9bfae2b06bf9ee215",
            "71388f6d11f944aeadbfcca7a2856b05",
            "32047b851ccf4db5ac00499045c1b92c",
            "b3b4126c38d34c3184d2b2a8f507c602",
            "7aab75584ba942dd940689ce9f8fbc07",
            "9d8ea0db1f5349d7834d013ae5397984",
            "e4621195f8d94013b48a23c6988d1e9b",
            "85206ee0e2da4550a27b7aa8fcca79f3",
            "63c5a606e1214119ae4b626076e0c4a8",
            "c17ad49dad9243f1a1441c35abc67a7b",
            "a93a6b40ab40471e9f6abcf398ea7821",
            "f5764a6287934e45a45c91a1473cad9a",
            "ed5b79d180b74d3f971e17c58ce82727",
            "8af3f1a82e50497cb303ac492e75c45a",
            "69be3170f2b34aeda3535c2262f8d114",
            "cd72be07840e43acae95b2440aede1e7",
            "a8b4b36dcfa24d8e8c2e9d18a43dde0a"
          ]
        },
        "id": "28tCWXQWPBS2",
        "outputId": "6b3cb9d4-5784-44cb-d18c-b6afde0ea117"
      },
      "execution_count": 4,
      "outputs": [
        {
          "output_type": "display_data",
          "data": {
            "text/plain": [
              "(…)Article-Encoder/resolve/main/config.json:   0%|          | 0.00/608 [00:00<?, ?B/s]"
            ],
            "application/vnd.jupyter.widget-view+json": {
              "version_major": 2,
              "version_minor": 0,
              "model_id": "cf474e0e30954ceb977f1759caf18eb6"
            }
          },
          "metadata": {}
        },
        {
          "output_type": "display_data",
          "data": {
            "text/plain": [
              "pytorch_model.bin:   0%|          | 0.00/438M [00:00<?, ?B/s]"
            ],
            "application/vnd.jupyter.widget-view+json": {
              "version_major": 2,
              "version_minor": 0,
              "model_id": "0dd2f771ad374ebaac87cbd9480b771f"
            }
          },
          "metadata": {}
        },
        {
          "output_type": "display_data",
          "data": {
            "text/plain": [
              "(…)coder/resolve/main/tokenizer_config.json:   0%|          | 0.00/1.49k [00:00<?, ?B/s]"
            ],
            "application/vnd.jupyter.widget-view+json": {
              "version_major": 2,
              "version_minor": 0,
              "model_id": "54ae571e7d5d442480b197445ba4d5c1"
            }
          },
          "metadata": {}
        },
        {
          "output_type": "display_data",
          "data": {
            "text/plain": [
              "(…)T-Article-Encoder/resolve/main/vocab.txt:   0%|          | 0.00/226k [00:00<?, ?B/s]"
            ],
            "application/vnd.jupyter.widget-view+json": {
              "version_major": 2,
              "version_minor": 0,
              "model_id": "37ffb899b28c41cca152fe2a0cc3ea47"
            }
          },
          "metadata": {}
        },
        {
          "output_type": "display_data",
          "data": {
            "text/plain": [
              "(…)icle-Encoder/resolve/main/tokenizer.json:   0%|          | 0.00/706k [00:00<?, ?B/s]"
            ],
            "application/vnd.jupyter.widget-view+json": {
              "version_major": 2,
              "version_minor": 0,
              "model_id": "2609a9792d0c4cadbe1ff10baf61e736"
            }
          },
          "metadata": {}
        },
        {
          "output_type": "display_data",
          "data": {
            "text/plain": [
              "(…)e-Encoder/resolve/main/added_tokens.json:   0%|          | 0.00/74.0 [00:00<?, ?B/s]"
            ],
            "application/vnd.jupyter.widget-view+json": {
              "version_major": 2,
              "version_minor": 0,
              "model_id": "5f5542b4c86d4a32ad254576d5c0a5b8"
            }
          },
          "metadata": {}
        },
        {
          "output_type": "display_data",
          "data": {
            "text/plain": [
              "(…)der/resolve/main/special_tokens_map.json:   0%|          | 0.00/125 [00:00<?, ?B/s]"
            ],
            "application/vnd.jupyter.widget-view+json": {
              "version_major": 2,
              "version_minor": 0,
              "model_id": "e4621195f8d94013b48a23c6988d1e9b"
            }
          },
          "metadata": {}
        }
      ]
    },
    {
      "cell_type": "code",
      "source": [
        "# @title We'll be using the Llama-2-7B-Chat model via the Llama.cpp integration\n",
        "\n",
        "model_url = \"https://huggingface.co/TheBloke/Llama-2-7B-Chat-GGUF/resolve/main/llama-2-7b-chat.Q4_K_M.gguf\"\n",
        "\n",
        "llm = LlamaCPP(\n",
        "    # You can pass in the URL to a GGML model to download it automatically\n",
        "    model_url=model_url,\n",
        "    # optionally, you can set the path to a pre-downloaded model instead of model_url\n",
        "    model_path=None,\n",
        "    temperature=0.1,\n",
        "    max_new_tokens=512,\n",
        "    # llama2 has a context window of 4096 tokens, but we set it lower to allow for some wiggle room\n",
        "    context_window=2048,\n",
        "    # kwargs to pass to __call__()\n",
        "    generate_kwargs={},\n",
        "    # kwargs to pass to __init__()\n",
        "    # set to at least 1 to use GPU\n",
        "    model_kwargs={\"n_gpu_layers\": 36},\n",
        "    # transform inputs into Llama2 format\n",
        "    messages_to_prompt=messages_to_prompt,\n",
        "    completion_to_prompt=completion_to_prompt,\n",
        "    verbose=True\n",
        ")"
      ],
      "metadata": {
        "colab": {
          "base_uri": "https://localhost:8080/"
        },
        "id": "R8LnQZnFP99A",
        "outputId": "e74e50e1-9cad-4aa3-8925-b76e9134e37a"
      },
      "execution_count": 5,
      "outputs": [
        {
          "output_type": "stream",
          "name": "stdout",
          "text": [
            "Downloading url https://huggingface.co/TheBloke/Llama-2-7B-Chat-GGUF/resolve/main/llama-2-7b-chat.Q4_K_M.gguf to path /tmp/llama_index/models/llama-2-7b-chat.Q4_K_M.gguf\n",
            "total size (MB): 4081.0\n"
          ]
        },
        {
          "output_type": "stream",
          "name": "stderr",
          "text": [
            "3892it [00:25, 154.41it/s]                          \n",
            "AVX = 1 | AVX2 = 1 | AVX512 = 0 | AVX512_VBMI = 0 | AVX512_VNNI = 0 | FMA = 1 | NEON = 0 | ARM_FMA = 0 | F16C = 1 | FP16_VA = 0 | WASM_SIMD = 0 | BLAS = 1 | SSE3 = 1 | SSSE3 = 1 | VSX = 0 | \n"
          ]
        }
      ]
    },
    {
      "cell_type": "code",
      "source": [
        "# @title Create our `ServiceContext` to specify our custom embeddings and LLM\n",
        "# @markdown You can experiment with the `chunk_size` parameter to determine it's effect on inference speed and effective retrieval.\n",
        "\n",
        "service_context = ServiceContext.from_defaults(\n",
        "    llm=llm,\n",
        "    embed_model=embed_model,\n",
        "    chunk_size=1000\n",
        ")"
      ],
      "metadata": {
        "id": "bFcBcigjKEuj",
        "colab": {
          "base_uri": "https://localhost:8080/"
        },
        "outputId": "3e270569-edb0-4494-de89-ae94ba9670a4"
      },
      "execution_count": 6,
      "outputs": [
        {
          "output_type": "stream",
          "name": "stderr",
          "text": [
            "[nltk_data] Downloading package punkt to /tmp/llama_index...\n",
            "[nltk_data]   Unzipping tokenizers/punkt.zip.\n"
          ]
        }
      ]
    },
    {
      "cell_type": "code",
      "source": [
        "# @title Create our `VectorStoreIndex` Query Engine from the PDF and our `ServiceContext`\n",
        "\n",
        "index = VectorStoreIndex.from_documents(\n",
        "    documents, service_context=service_context\n",
        ")\n",
        "\n",
        "# @markdown Another hyperparameter to experiment with is `similarity_top_k`. This is the number of chunks of text that will be retrieved from the `VectorStoreIndex` for each query.\n",
        "query_engine = index.as_query_engine(similarity_top_k=3)"
      ],
      "metadata": {
        "id": "QWVn1PfTRaAB"
      },
      "execution_count": 7,
      "outputs": []
    },
    {
      "cell_type": "code",
      "source": [
        "# @title Test our RAG Q&A pipeline\n",
        "\n",
        "response = query_engine.query(\"What is the GFR threshold below which IV contrast should be withheld in a patient with acute kidney injury?\");\n",
        "print(response)"
      ],
      "metadata": {
        "colab": {
          "base_uri": "https://localhost:8080/"
        },
        "id": "7xtFXVOe39yS",
        "outputId": "ef25ea8a-47ea-4fff-9ee6-998ba02ecd6f"
      },
      "execution_count": 8,
      "outputs": [
        {
          "output_type": "stream",
          "name": "stdout",
          "text": [
            "  Based on the provided context information, there is no agreed-upon threshold of eGFR elevation or declination beyond which the risk of CI-AKI is considered so great that intravascular iodinated contrast medium should never be administered. In fact, each contrast medium administration always implies a risk-benefit analysis for the patient, and contrast medium administration for all patients should always be taken in the clinical context, considering all risks, benefits, and alternatives [2, 6].\n",
            "Some practices have advocated stratification of potential risk by eGFR instead of serum creatinine because it is a better indicator of baseline renal function [49, 50]. However, there is limited data on this topic, and no agreed-upon threshold has been established. Therefore, the decision to withhold IV contrast medium in a patient with acute kidney injury should be made on an individual basis, taking into account the patient's specific clinical context and renal function.\n",
            "In summary, there is no clear GFR threshold below which IV contrast should be withheld in a patient with acute kidney injury. The decision to administer contrast medium should be based on a careful risk-benefit analysis and individualized assessment of the patient's renal function and overall clinical status.\n"
          ]
        }
      ]
    },
    {
      "cell_type": "markdown",
      "source": [
        "Play around with different queries and see how well the model responds.\n",
        "\n",
        "You could even try different embedding models and LLMs available on Hugging Face."
      ],
      "metadata": {
        "id": "7CN4kMXTFwbm"
      }
    },
    {
      "cell_type": "code",
      "source": [
        "response = query_engine.query(\"Is gadoxetate a group II gadolinium based contrast material?\");\n",
        "print(response)"
      ],
      "metadata": {
        "id": "xRV7xILeklhv",
        "colab": {
          "base_uri": "https://localhost:8080/"
        },
        "outputId": "e61c6eca-4a9a-438b-b871-ac31447fe08d"
      },
      "execution_count": 9,
      "outputs": [
        {
          "output_type": "stream",
          "name": "stderr",
          "text": [
            "Llama.generate: prefix-match hit\n"
          ]
        },
        {
          "output_type": "stream",
          "name": "stdout",
          "text": [
            "  Based on the provided context and without any prior knowledge, I can confirm that gadoxetate is indeed a group II gadolinium-based contrast material. According to the information provided in the context, gadoxetate is listed as a group II gadolinium-based contrast agent, specifically Gd-EOB-DTPA.\n"
          ]
        }
      ]
    },
    {
      "cell_type": "code",
      "source": [
        "response = query_engine.query(\"What group does gadoxetic acid belong to?\");\n",
        "print(response)"
      ],
      "metadata": {
        "id": "bIiSJ69_kwVT",
        "colab": {
          "base_uri": "https://localhost:8080/"
        },
        "outputId": "c1083447-e50c-4055-a843-969145db09a5"
      },
      "execution_count": 10,
      "outputs": [
        {
          "output_type": "stream",
          "name": "stderr",
          "text": [
            "Llama.generate: prefix-match hit\n"
          ]
        },
        {
          "output_type": "stream",
          "name": "stdout",
          "text": [
            "  Based on the provided context information, gadoxetic acid belongs to the group of macrocyclic non-ionic GBCAs.\n"
          ]
        }
      ]
    },
    {
      "cell_type": "code",
      "source": [
        "response = query_engine.query(\"What considerations should I be aware of when giving IV contrast to a patient taking metformin?\");\n",
        "print(response)"
      ],
      "metadata": {
        "id": "qC9-b8UHk-Bx",
        "colab": {
          "base_uri": "https://localhost:8080/"
        },
        "outputId": "9312651c-502a-49bf-f2df-da3f3b356e56"
      },
      "execution_count": 11,
      "outputs": [
        {
          "output_type": "stream",
          "name": "stderr",
          "text": [
            "Llama.generate: prefix-match hit\n"
          ]
        },
        {
          "output_type": "stream",
          "name": "stdout",
          "text": [
            "  As an honest and respectful assistant, I must inform you that there is no direct evidence or consensus in the medical literature to suggest that metformin increases the risk of contrast-induced acute kidney injury (CI-AKI) when given intravenously. However, there are some studies that have suggested a possible association between metformin use and an increased risk of lactic acidosis in patients who develop AKI while taking the drug. Therefore, it is important to monitor the patient's renal function closely and be aware of the signs and symptoms of lactic acidosis if they are receiving IV contrast media.\n",
            "In terms of considerations for giving IV contrast to a patient taking metformin, here are some general guidelines:\n",
            "1. Assess the patient's baseline renal function: Before administering IV contrast, it is important to assess the patient's baseline renal function to determine their risk of developing AKI. This can be done by measuring the patient's serum creatinine level before administration.\n",
            "2. Consider alternative imaging modalities: If the patient has a history of AKI or an eGFR less than 30 mL/min/1.73 m2, it may be safer to avoid using IV contrast media altogether and instead use non-contrast CT or other modalities that do not carry the same risk of AKI.\n",
            "3. Use a low-osmolar contrast medium: If IV contrast media is deemed necessary, using a low-osmolar contrast medium may reduce the risk of AKI. This is because low-osmolar contrast media have a lower risk of causing renal damage compared to higher-osmolar agents.\n",
            "4. Monitor the patient's vital signs and renal function closely: After administering IV contrast, it is important to closely monitor the patient's vital signs and renal function for signs of AKI or lactic acidosis. This may involve measuring serum creatinine levels regularly and monitoring the patient for symptoms such as nausea, vomiting, abdominal pain, and shortness of breath.\n",
            "5. Be aware of the signs and symptoms of lactic acidosis: As mentioned earlier, there is a possible association between metformin use and an increased risk of lactic acidosis in patients who develop A\n"
          ]
        }
      ]
    },
    {
      "cell_type": "markdown",
      "source": [
        "## Inspecting the Retrieved Source Texts\n",
        "\n",
        "Sometimes, it can be helpful to see what source texts were provided as context for the LLM to answer your query. This can help in troubleshooting and determining whether to increase the number of texts retrieved for each query."
      ],
      "metadata": {
        "id": "JmdyMrt_g5nn"
      }
    },
    {
      "cell_type": "code",
      "source": [
        "response = query_engine.query(\"Should metforming be discontinued when giving IV gadolinium-based contrast?\");\n",
        "print(response)"
      ],
      "metadata": {
        "id": "9-0qinAulqOb",
        "colab": {
          "base_uri": "https://localhost:8080/"
        },
        "outputId": "f8c51c07-bba3-460b-bda3-3a5f828a7452"
      },
      "execution_count": 12,
      "outputs": [
        {
          "output_type": "stream",
          "name": "stderr",
          "text": [
            "Llama.generate: prefix-match hit\n"
          ]
        },
        {
          "output_type": "stream",
          "name": "stdout",
          "text": [
            "  Based on the provided context and without any prior knowledge, I would advise that metformin should not be discontined when giving IV gadolinium-based contrast. There is no evidence to suggest that metformin increases the risk of contrast-induced acute kidney injury (CI-AKI) in patients with chronic kidney disease (CKD). In fact, a study published in the Journal of the American Society of Nephrology found that metformin was associated with a lower risk of AKI compared to other diabetes medications.\n",
            "However, it is important to note that CI-AKI can occur in patients with CKD who receive IV gadolinium-based contrast, regardless of the presence of metformin. The risk of CI-AKI is generally low, but it can be higher in patients with more severe kidney impairment or those who are dehydrated or have preexisting kidney disease.\n",
            "Therefore, I would recommend that patients with CKD who require IV gadolinium-based contrast should be assessed for their risk of CI-AKI and monitored closely for signs of AKI after the procedure. If the patient has a history of CI-AKI or is at high risk for developing AKI, alternative imaging modalities may need to be considered.\n",
            "In summary, discontinuing metformin before administering IV gadolinium-based contrast is not necessary based on the current evidence. However, patients with CKD should be carefully evaluated and monitored for signs of CI-AKI after the procedure.\n"
          ]
        }
      ]
    },
    {
      "cell_type": "code",
      "source": [
        "sources = response.get_formatted_sources(length=1000)\n",
        "print(sources)"
      ],
      "metadata": {
        "colab": {
          "base_uri": "https://localhost:8080/"
        },
        "id": "GNUCGpFqbL6e",
        "outputId": "58b76fe6-c694-45d1-8d9e-5632fab43ec0"
      },
      "execution_count": 13,
      "outputs": [
        {
          "output_type": "stream",
          "name": "stdout",
          "text": [
            "> Source (Doc id: a594aa79-dc12-42df-980e-0682a4ba2dd3): Preface  \n",
            "2 \n",
            " \n",
            " \n",
            "  \n",
            " \n",
            "  \n",
            " \n",
            " \n",
            " \n",
            "ACR Manual \n",
            "On \n",
            "Contrast  Media  \n",
            " \n",
            " \n",
            "2023  \n",
            " \n",
            " \n",
            " \n",
            "ACR Committee  \n",
            "on   \n",
            "                Drugs  and Contrast  Media\n",
            "\n",
            "> Source (Doc id: a42f803e-bbb6-49c0-a6d5-ec3008cf456f): CONTRAST -ASSOCIATED ACUTE KIDNEY INJURY AND CONTRAST -INDUCED ACUTE KIDNEY INJURY IN ADULTS   44   \n",
            "• Personal history of renal disease, including:  \n",
            "Known chronic kidney disease (CKD)  \n",
            "   Remote history of AKI  \n",
            "Dialysis  \n",
            "Kidney surgery \n",
            "Kidney ablation  \n",
            "Albuminuria  \n",
            "•  History of diabetes mellitus (optional)  \n",
            "• Metformin or metformin -containi ng drug combinations1 \n",
            "Patients who are scheduled for a routine intravascular study but do not have one of the above risk factors do not \n",
            "require a baseline serum creatinine determination before iodinated contrast medium administration.  \n",
            " \n",
            "Morbidity and Mortality  \n",
            " The clinical course of CA -AKI (and, presumably, CI-AKI) depends on baseline renal function, coexisting risk \n",
            "factors, degree of hydration, and other factors. However, the usual course consists of a transient asymptomatic \n",
            "elevation in serum creati nine. Serum creatinine usually begins to rise within 24 hours of intravascular \n",
            "iodinated contrast medium administration, peak...\n",
            "\n",
            "> Source (Doc id: 6b0f68b3-fd06-476b-84b2-da55d5b3caa0): ACR Manual on Contrast \n",
            "Media  \n",
            " \n",
            " \n",
            "2023 \n",
            " \n",
            "ACR Committee on \n",
            "Drugs  and Contrast \n",
            "Media  \n",
            " \n",
            " \n",
            "  \n",
            " \n",
            " \n",
            " \n",
            "  \n",
            " \n",
            " \n",
            " \n",
            " \n",
            "    \n",
            " \n",
            " \n",
            "© Copyright 202 3 American College of Radiology  ISBN: 978-1-55903-012-0\n"
          ]
        }
      ]
    },
    {
      "cell_type": "markdown",
      "source": [
        "## More Test Queries"
      ],
      "metadata": {
        "id": "aOBWUJmmh5DS"
      }
    },
    {
      "cell_type": "code",
      "source": [
        "response = query_engine.query(\"What are some of the concerns regarding children and IV contrast?\");\n",
        "print(response)"
      ],
      "metadata": {
        "id": "IgUnyXuwl83w",
        "colab": {
          "base_uri": "https://localhost:8080/"
        },
        "outputId": "cb20793c-f73e-4477-c6c3-bf7f37948d78"
      },
      "execution_count": 14,
      "outputs": [
        {
          "output_type": "stream",
          "name": "stderr",
          "text": [
            "Llama.generate: prefix-match hit\n",
            "Llama.generate: prefix-match hit\n"
          ]
        },
        {
          "output_type": "stream",
          "name": "stdout",
          "text": [
            "  Thank you for providing additional context. Based on the new information provided, here is a refined answer to your original query:\n",
            "The concerns regarding children and IV contrast are as follows:\n",
            "1. Extravasation-related signs or symptoms: Children are more susceptible to extravasation-related complications due to their smaller body size and immature circulatory system. It is essential to monitor children closely during and after contrast media injection to detect any signs of extravasation, such as severe pain, progressive swelling or pain, altered tissue perfusion, and skin ulceration or blistering.\n",
            "2. Large volume extravasation: Children may be more likely to experience large volume extravasation due to their smaller body size, which can lead to serious complications such as compartment syndrome. It is crucial to use the smallest possible dose of contrast media necessary for the imaging study and to closely monitor children during the injection process.\n",
            "3. Discharging patients: Children who have suffered contrast media extravasation should be released from the radiology department only after an initial period of observation, provided the radiologist is satisfied that any signs and symptoms present initially have improved or that new symptoms have not developed during the observation period. Clear instructions should be given to the patient's caregivers on how to monitor the child for any adverse effects and when to seek medical attention.\n",
            "In addition to these concerns, it is important to note that children may be more susceptible to the effects of contrast media due to their developing organs and systems. Therefore, it is crucial to use the lowest possible dose of contrast media necessary for the imaging study and to closely monitor children during the injection process to minimize the risk of adverse effects.\n",
            "Overall, while contrast media can be an essential tool in medical imaging, it is important to carefully weigh the potential benefits against the risks, particularly when administering contrast media to children. By taking a cautious and proactive approach, healthcare providers can minimize the risk of adverse effects and provide optimal care for their pediatric patients.\n"
          ]
        }
      ]
    },
    {
      "cell_type": "code",
      "source": [
        "response = query_engine.query(\"When should surgical consultation be obtained after contrast extravasation?\");\n",
        "print(response)"
      ],
      "metadata": {
        "id": "atpcRx9fmLI0",
        "colab": {
          "base_uri": "https://localhost:8080/"
        },
        "outputId": "d3f94362-9dea-4f50-9b59-50fca9ba0aff"
      },
      "execution_count": 15,
      "outputs": [
        {
          "output_type": "stream",
          "name": "stderr",
          "text": [
            "Llama.generate: prefix-match hit\n",
            "Llama.generate: prefix-match hit\n"
          ]
        },
        {
          "output_type": "stream",
          "name": "stdout",
          "text": [
            "  Thank you for providing additional context. Based on the updated information, the answer to the query \"When should surgical consultation be obtained after contrast extravasation?\" is:\n",
            "Surgical consultation should be obtained immediately if any of the following signs or symptoms develop after a contrast extravasation:\n",
            "* Severe pain that worsens over time\n",
            "* Progressive swelling or pain that persists for more than 24 hours\n",
            "* Altered tissue perfusion as evidenced by decreased capillary refill that does not improve with elevation of the affected limb\n",
            "* Change in sensation in the affected limb that is not resolving\n",
            "* Worsening passive or active range of motion that is not improving\n",
            "* Skin ulceration or blistering that is not healing\n",
            "\n",
            "It is important to note that an extravasation volume threshold (such as estimated volumes exceeding 100 or 150 mL) should not be used to indicate the need for surgical consultation. Instead, signs and symptoms should be evaluated and clinical follow-up should be conducted appropriately. If the patient is asymptomatic or has only mild symptoms, appropriate evaluation and clinical follow-up are usually sufficient. However, if any of the above signs or symptoms develop, surgical consultation should be obtained immediately.\n",
            "There is no consistent evidence that local injection of potentially therapeutic agents, such as corticosteroids or hyaluronidase, is beneficial after a contrast extravasation event. Therefore, use of these agents is not recommended.\n",
            "Surgical consultation should be obtained urgently if there is concern for a severe extravasation injury, as prompt evaluation and management can help prevent further tissue damage and improve outcomes.\n"
          ]
        }
      ]
    },
    {
      "cell_type": "code",
      "source": [
        "response = query_engine.query(\"Can I power-inject contrast into a PICC line?\");\n",
        "print(response)"
      ],
      "metadata": {
        "id": "YD9mRXMemmm4",
        "colab": {
          "base_uri": "https://localhost:8080/"
        },
        "outputId": "693af806-0464-4da5-86bf-7fa5a526b0a3"
      },
      "execution_count": 16,
      "outputs": [
        {
          "output_type": "stream",
          "name": "stderr",
          "text": [
            "Llama.generate: prefix-match hit\n",
            "Llama.generate: prefix-match hit\n"
          ]
        },
        {
          "output_type": "stream",
          "name": "stdout",
          "text": [
            "  Thank you for providing additional context. Based on the new information provided, it is not recommended to power-inject contrast into a PICC line as it can increase the risk of extravasation injury. The manufacturer recommendations should be followed, and the flow limit should be noted before using a central venous line for power injection. It is important to ensure that the port site is certified as power injectable, and meticulous intravenous line insertion technique, angiocatheters, confirming position by aspirating blood, flushing an inserted catheter with a test injection of saline, and carefully securing the inserted catheter should be used to reduce the risk of extravasation injuries.\n",
            "Original Answer: Based on the provided context information, it is not recommended to power-inject contrast into a PICC line. The risk of extravasation injury is higher when using a PICC line for power injection compared to other central venous catheters. In addition, manufacturer recommendations should be followed, and the flow limit should be noted before using a central venous line for power injection. It is important to ensure that the port site is certified as power injectable, and meticulous intravenous line insertion technique, angiocatheters, confirming position by aspirating blood, flushing an inserted catheter with a test injection of saline, and carefully securing the inserted catheter should be used to reduce the risk of extravasation injuries.\n"
          ]
        }
      ]
    },
    {
      "cell_type": "code",
      "source": [
        "response = query_engine.query(\"When should kidney function be checked prior to giving iodinated contrast?\");\n",
        "print(response)"
      ],
      "metadata": {
        "id": "zgPqdt78m01p",
        "colab": {
          "base_uri": "https://localhost:8080/"
        },
        "outputId": "5b7dd258-1032-432e-b5ea-5750c6f3edee"
      },
      "execution_count": 17,
      "outputs": [
        {
          "output_type": "stream",
          "name": "stderr",
          "text": [
            "Llama.generate: prefix-match hit\n",
            "Llama.generate: prefix-match hit\n"
          ]
        },
        {
          "output_type": "stream",
          "name": "stdout",
          "text": [
            "  Thank you for providing additional context. Based on the updated information, it is important to check kidney function before administering iodinated contrast to patients who are at risk of developing contrast-induced nephropathy (CIN). The recommended tests for renal function assessment include serum creatinine and estimated glomerular filtration rate (eGFR). If the results indicate abnormal kidney function, the administration of iodinated contrast should be delayed or alternative imaging modalities should be considered.\n",
            "In particular, patients with pre-existing kidney disease, diabetes, or heart failure are at higher risk of developing CIN and should have their kidney function assessed before receiving iodinated contrast. Additionally, patients taking medications that can affect kidney function, such as non -steroidal anti -inflammatory drugs (NSAIDs) or angiotensin -converting enzyme (ACE) inhibitors, may also be at higher risk of CIN and should have their kidney function assessed before receiving iodinated contrast.\n",
            "It is important to note that the ACR-NKF Consensus Statement recommends assessing kidney function before administering iodinated contrast to patients who are at risk of developing CIN. The consensus statement also suggests that prophylactic hydration and/or administration of sodium bicarbonate may help protect renal function in these patients.\n",
            "In summary, based on the updated context, it is important to check kidney function before administering iodinated contrast to patients who are at risk of developing CIN, and to consider prophylactic measures to protect renal function in these patients.\n"
          ]
        }
      ]
    },
    {
      "cell_type": "code",
      "source": [
        "response = query_engine.query(\"In what situations should kidney function be checked prior to iodinated contrast?\");\n",
        "print(response)"
      ],
      "metadata": {
        "id": "rN0R4aI8nFzn",
        "colab": {
          "base_uri": "https://localhost:8080/"
        },
        "outputId": "3a365eba-600e-47e5-f689-a482bc8afe71"
      },
      "execution_count": 18,
      "outputs": [
        {
          "output_type": "stream",
          "name": "stderr",
          "text": [
            "Llama.generate: prefix-match hit\n",
            "Llama.generate: prefix-match hit\n"
          ]
        },
        {
          "output_type": "stream",
          "name": "stdout",
          "text": [
            "  Thank you for providing additional context. Based on the updated information, it is important to check kidney function prior to administering iodinated contrast in the following situations:\n",
            "1. Patients with end-stage renal disease (ESRD) on chronic dialysis: In these patients, checking kidney function before administering iodinated contrast is crucial to avoid any potential complications.\n",
            "2. Patients at risk of nephrogenic systemic fibrosis (NSF): Group I agents (iodinated contrast media) are contraindicated in patients with a history of NSF, and checking kidney function before administering these agents is essential to minimize the risk of developing NSF.\n",
            "3. Patients with acute kidney injury (AKI): In patients with AKI, administering iodinated contrast can further compromise kidney function, and checking kidney function beforehand is crucial to identify any potential issues.\n",
            "4. Patients taking metformin: Metformin use has been associated with an increased risk of developing NSF, and checking kidney function in these patients is essential to minimize the risk of developing this complication.\n",
            "5. Patients with chronic kidney disease (CKD): In patients with CKD, administering iodinated contrast can further compromise kidney function, and checking kidney function beforehand is crucial to identify any potential issues.\n",
            "It is important to note that the ACR-NKF Consensus Statement recommends checking kidney function prior to administering iodinated contrast in patients with ESRD on chronic dialysis, patients at risk of NSF, and patients with AKI or CKD. Additionally, prophylactic hydration may be beneficial in these high-risk groups to protect renal function from intravascular iodinated contrast material.\n",
            "The original answer provided a more general overview of the situations in which kidney function should be checked prior to administering iodinated contrast, but the updated context provides additional specificity and relevance for certain patient populations.\n"
          ]
        }
      ]
    },
    {
      "cell_type": "code",
      "source": [],
      "metadata": {
        "id": "YqemgGvanO4-"
      },
      "execution_count": 18,
      "outputs": []
    }
  ],
  "metadata": {
    "colab": {
      "provenance": [],
      "gpuType": "T4",
      "authorship_tag": "ABX9TyMUeqKu9wJq/vTyqYlPCKi0",
      "include_colab_link": true
    },
    "kernelspec": {
      "display_name": "Python 3",
      "name": "python3"
    },
    "language_info": {
      "name": "python"
    },
    "accelerator": "GPU",
    "widgets": {
      "application/vnd.jupyter.widget-state+json": {
        "cf474e0e30954ceb977f1759caf18eb6": {
          "model_module": "@jupyter-widgets/controls",
          "model_name": "HBoxModel",
          "model_module_version": "1.5.0",
          "state": {
            "_dom_classes": [],
            "_model_module": "@jupyter-widgets/controls",
            "_model_module_version": "1.5.0",
            "_model_name": "HBoxModel",
            "_view_count": null,
            "_view_module": "@jupyter-widgets/controls",
            "_view_module_version": "1.5.0",
            "_view_name": "HBoxView",
            "box_style": "",
            "children": [
              "IPY_MODEL_64c88fd138564ddb8295d2fdb5d56f45",
              "IPY_MODEL_8f57c6041ccb488dbe5adeb37aff2ab0",
              "IPY_MODEL_823c5cadf86c4a15ae7fb796cb70136e"
            ],
            "layout": "IPY_MODEL_36adc97dea95498e850e50a021955e99"
          }
        },
        "64c88fd138564ddb8295d2fdb5d56f45": {
          "model_module": "@jupyter-widgets/controls",
          "model_name": "HTMLModel",
          "model_module_version": "1.5.0",
          "state": {
            "_dom_classes": [],
            "_model_module": "@jupyter-widgets/controls",
            "_model_module_version": "1.5.0",
            "_model_name": "HTMLModel",
            "_view_count": null,
            "_view_module": "@jupyter-widgets/controls",
            "_view_module_version": "1.5.0",
            "_view_name": "HTMLView",
            "description": "",
            "description_tooltip": null,
            "layout": "IPY_MODEL_1221ed58fa18401b8a12e58df1e74834",
            "placeholder": "​",
            "style": "IPY_MODEL_cc47e5fcbc0e4354bcf68a8a6f08938c",
            "value": "(…)Article-Encoder/resolve/main/config.json: 100%"
          }
        },
        "8f57c6041ccb488dbe5adeb37aff2ab0": {
          "model_module": "@jupyter-widgets/controls",
          "model_name": "FloatProgressModel",
          "model_module_version": "1.5.0",
          "state": {
            "_dom_classes": [],
            "_model_module": "@jupyter-widgets/controls",
            "_model_module_version": "1.5.0",
            "_model_name": "FloatProgressModel",
            "_view_count": null,
            "_view_module": "@jupyter-widgets/controls",
            "_view_module_version": "1.5.0",
            "_view_name": "ProgressView",
            "bar_style": "success",
            "description": "",
            "description_tooltip": null,
            "layout": "IPY_MODEL_62f0100dbfc748f9be24494217c841bb",
            "max": 608,
            "min": 0,
            "orientation": "horizontal",
            "style": "IPY_MODEL_08ecdbf4d87c4ce9a4b32bb9f73ec788",
            "value": 608
          }
        },
        "823c5cadf86c4a15ae7fb796cb70136e": {
          "model_module": "@jupyter-widgets/controls",
          "model_name": "HTMLModel",
          "model_module_version": "1.5.0",
          "state": {
            "_dom_classes": [],
            "_model_module": "@jupyter-widgets/controls",
            "_model_module_version": "1.5.0",
            "_model_name": "HTMLModel",
            "_view_count": null,
            "_view_module": "@jupyter-widgets/controls",
            "_view_module_version": "1.5.0",
            "_view_name": "HTMLView",
            "description": "",
            "description_tooltip": null,
            "layout": "IPY_MODEL_cf475a8cd79943969d6553027b12a576",
            "placeholder": "​",
            "style": "IPY_MODEL_4c690839a3ef4e129e6c6eed25a83328",
            "value": " 608/608 [00:00&lt;00:00, 27.1kB/s]"
          }
        },
        "36adc97dea95498e850e50a021955e99": {
          "model_module": "@jupyter-widgets/base",
          "model_name": "LayoutModel",
          "model_module_version": "1.2.0",
          "state": {
            "_model_module": "@jupyter-widgets/base",
            "_model_module_version": "1.2.0",
            "_model_name": "LayoutModel",
            "_view_count": null,
            "_view_module": "@jupyter-widgets/base",
            "_view_module_version": "1.2.0",
            "_view_name": "LayoutView",
            "align_content": null,
            "align_items": null,
            "align_self": null,
            "border": null,
            "bottom": null,
            "display": null,
            "flex": null,
            "flex_flow": null,
            "grid_area": null,
            "grid_auto_columns": null,
            "grid_auto_flow": null,
            "grid_auto_rows": null,
            "grid_column": null,
            "grid_gap": null,
            "grid_row": null,
            "grid_template_areas": null,
            "grid_template_columns": null,
            "grid_template_rows": null,
            "height": null,
            "justify_content": null,
            "justify_items": null,
            "left": null,
            "margin": null,
            "max_height": null,
            "max_width": null,
            "min_height": null,
            "min_width": null,
            "object_fit": null,
            "object_position": null,
            "order": null,
            "overflow": null,
            "overflow_x": null,
            "overflow_y": null,
            "padding": null,
            "right": null,
            "top": null,
            "visibility": null,
            "width": null
          }
        },
        "1221ed58fa18401b8a12e58df1e74834": {
          "model_module": "@jupyter-widgets/base",
          "model_name": "LayoutModel",
          "model_module_version": "1.2.0",
          "state": {
            "_model_module": "@jupyter-widgets/base",
            "_model_module_version": "1.2.0",
            "_model_name": "LayoutModel",
            "_view_count": null,
            "_view_module": "@jupyter-widgets/base",
            "_view_module_version": "1.2.0",
            "_view_name": "LayoutView",
            "align_content": null,
            "align_items": null,
            "align_self": null,
            "border": null,
            "bottom": null,
            "display": null,
            "flex": null,
            "flex_flow": null,
            "grid_area": null,
            "grid_auto_columns": null,
            "grid_auto_flow": null,
            "grid_auto_rows": null,
            "grid_column": null,
            "grid_gap": null,
            "grid_row": null,
            "grid_template_areas": null,
            "grid_template_columns": null,
            "grid_template_rows": null,
            "height": null,
            "justify_content": null,
            "justify_items": null,
            "left": null,
            "margin": null,
            "max_height": null,
            "max_width": null,
            "min_height": null,
            "min_width": null,
            "object_fit": null,
            "object_position": null,
            "order": null,
            "overflow": null,
            "overflow_x": null,
            "overflow_y": null,
            "padding": null,
            "right": null,
            "top": null,
            "visibility": null,
            "width": null
          }
        },
        "cc47e5fcbc0e4354bcf68a8a6f08938c": {
          "model_module": "@jupyter-widgets/controls",
          "model_name": "DescriptionStyleModel",
          "model_module_version": "1.5.0",
          "state": {
            "_model_module": "@jupyter-widgets/controls",
            "_model_module_version": "1.5.0",
            "_model_name": "DescriptionStyleModel",
            "_view_count": null,
            "_view_module": "@jupyter-widgets/base",
            "_view_module_version": "1.2.0",
            "_view_name": "StyleView",
            "description_width": ""
          }
        },
        "62f0100dbfc748f9be24494217c841bb": {
          "model_module": "@jupyter-widgets/base",
          "model_name": "LayoutModel",
          "model_module_version": "1.2.0",
          "state": {
            "_model_module": "@jupyter-widgets/base",
            "_model_module_version": "1.2.0",
            "_model_name": "LayoutModel",
            "_view_count": null,
            "_view_module": "@jupyter-widgets/base",
            "_view_module_version": "1.2.0",
            "_view_name": "LayoutView",
            "align_content": null,
            "align_items": null,
            "align_self": null,
            "border": null,
            "bottom": null,
            "display": null,
            "flex": null,
            "flex_flow": null,
            "grid_area": null,
            "grid_auto_columns": null,
            "grid_auto_flow": null,
            "grid_auto_rows": null,
            "grid_column": null,
            "grid_gap": null,
            "grid_row": null,
            "grid_template_areas": null,
            "grid_template_columns": null,
            "grid_template_rows": null,
            "height": null,
            "justify_content": null,
            "justify_items": null,
            "left": null,
            "margin": null,
            "max_height": null,
            "max_width": null,
            "min_height": null,
            "min_width": null,
            "object_fit": null,
            "object_position": null,
            "order": null,
            "overflow": null,
            "overflow_x": null,
            "overflow_y": null,
            "padding": null,
            "right": null,
            "top": null,
            "visibility": null,
            "width": null
          }
        },
        "08ecdbf4d87c4ce9a4b32bb9f73ec788": {
          "model_module": "@jupyter-widgets/controls",
          "model_name": "ProgressStyleModel",
          "model_module_version": "1.5.0",
          "state": {
            "_model_module": "@jupyter-widgets/controls",
            "_model_module_version": "1.5.0",
            "_model_name": "ProgressStyleModel",
            "_view_count": null,
            "_view_module": "@jupyter-widgets/base",
            "_view_module_version": "1.2.0",
            "_view_name": "StyleView",
            "bar_color": null,
            "description_width": ""
          }
        },
        "cf475a8cd79943969d6553027b12a576": {
          "model_module": "@jupyter-widgets/base",
          "model_name": "LayoutModel",
          "model_module_version": "1.2.0",
          "state": {
            "_model_module": "@jupyter-widgets/base",
            "_model_module_version": "1.2.0",
            "_model_name": "LayoutModel",
            "_view_count": null,
            "_view_module": "@jupyter-widgets/base",
            "_view_module_version": "1.2.0",
            "_view_name": "LayoutView",
            "align_content": null,
            "align_items": null,
            "align_self": null,
            "border": null,
            "bottom": null,
            "display": null,
            "flex": null,
            "flex_flow": null,
            "grid_area": null,
            "grid_auto_columns": null,
            "grid_auto_flow": null,
            "grid_auto_rows": null,
            "grid_column": null,
            "grid_gap": null,
            "grid_row": null,
            "grid_template_areas": null,
            "grid_template_columns": null,
            "grid_template_rows": null,
            "height": null,
            "justify_content": null,
            "justify_items": null,
            "left": null,
            "margin": null,
            "max_height": null,
            "max_width": null,
            "min_height": null,
            "min_width": null,
            "object_fit": null,
            "object_position": null,
            "order": null,
            "overflow": null,
            "overflow_x": null,
            "overflow_y": null,
            "padding": null,
            "right": null,
            "top": null,
            "visibility": null,
            "width": null
          }
        },
        "4c690839a3ef4e129e6c6eed25a83328": {
          "model_module": "@jupyter-widgets/controls",
          "model_name": "DescriptionStyleModel",
          "model_module_version": "1.5.0",
          "state": {
            "_model_module": "@jupyter-widgets/controls",
            "_model_module_version": "1.5.0",
            "_model_name": "DescriptionStyleModel",
            "_view_count": null,
            "_view_module": "@jupyter-widgets/base",
            "_view_module_version": "1.2.0",
            "_view_name": "StyleView",
            "description_width": ""
          }
        },
        "0dd2f771ad374ebaac87cbd9480b771f": {
          "model_module": "@jupyter-widgets/controls",
          "model_name": "HBoxModel",
          "model_module_version": "1.5.0",
          "state": {
            "_dom_classes": [],
            "_model_module": "@jupyter-widgets/controls",
            "_model_module_version": "1.5.0",
            "_model_name": "HBoxModel",
            "_view_count": null,
            "_view_module": "@jupyter-widgets/controls",
            "_view_module_version": "1.5.0",
            "_view_name": "HBoxView",
            "box_style": "",
            "children": [
              "IPY_MODEL_84fdbf1564734905b55cc7c0e6cde5cf",
              "IPY_MODEL_ce7ce7895cac42c3a18934e593c0a6f1",
              "IPY_MODEL_72275514c0bd4df293394cee9a3afc38"
            ],
            "layout": "IPY_MODEL_14a907c284e4471cb23969a35d8c6271"
          }
        },
        "84fdbf1564734905b55cc7c0e6cde5cf": {
          "model_module": "@jupyter-widgets/controls",
          "model_name": "HTMLModel",
          "model_module_version": "1.5.0",
          "state": {
            "_dom_classes": [],
            "_model_module": "@jupyter-widgets/controls",
            "_model_module_version": "1.5.0",
            "_model_name": "HTMLModel",
            "_view_count": null,
            "_view_module": "@jupyter-widgets/controls",
            "_view_module_version": "1.5.0",
            "_view_name": "HTMLView",
            "description": "",
            "description_tooltip": null,
            "layout": "IPY_MODEL_a93f51e232e84a9a943e515d0f54e693",
            "placeholder": "​",
            "style": "IPY_MODEL_13aa81dce35e4de8be8c1f958d2cb302",
            "value": "pytorch_model.bin: 100%"
          }
        },
        "ce7ce7895cac42c3a18934e593c0a6f1": {
          "model_module": "@jupyter-widgets/controls",
          "model_name": "FloatProgressModel",
          "model_module_version": "1.5.0",
          "state": {
            "_dom_classes": [],
            "_model_module": "@jupyter-widgets/controls",
            "_model_module_version": "1.5.0",
            "_model_name": "FloatProgressModel",
            "_view_count": null,
            "_view_module": "@jupyter-widgets/controls",
            "_view_module_version": "1.5.0",
            "_view_name": "ProgressView",
            "bar_style": "success",
            "description": "",
            "description_tooltip": null,
            "layout": "IPY_MODEL_fed45f7e52ce44678632a9dedc798c0b",
            "max": 437993382,
            "min": 0,
            "orientation": "horizontal",
            "style": "IPY_MODEL_fe3b6a8c3e8c47f8b504e290418d82b7",
            "value": 437993382
          }
        },
        "72275514c0bd4df293394cee9a3afc38": {
          "model_module": "@jupyter-widgets/controls",
          "model_name": "HTMLModel",
          "model_module_version": "1.5.0",
          "state": {
            "_dom_classes": [],
            "_model_module": "@jupyter-widgets/controls",
            "_model_module_version": "1.5.0",
            "_model_name": "HTMLModel",
            "_view_count": null,
            "_view_module": "@jupyter-widgets/controls",
            "_view_module_version": "1.5.0",
            "_view_name": "HTMLView",
            "description": "",
            "description_tooltip": null,
            "layout": "IPY_MODEL_3364fed58b614c52835df406547a31f3",
            "placeholder": "​",
            "style": "IPY_MODEL_753b3c424fc049b199e9eee8bb9811f2",
            "value": " 438M/438M [00:03&lt;00:00, 141MB/s]"
          }
        },
        "14a907c284e4471cb23969a35d8c6271": {
          "model_module": "@jupyter-widgets/base",
          "model_name": "LayoutModel",
          "model_module_version": "1.2.0",
          "state": {
            "_model_module": "@jupyter-widgets/base",
            "_model_module_version": "1.2.0",
            "_model_name": "LayoutModel",
            "_view_count": null,
            "_view_module": "@jupyter-widgets/base",
            "_view_module_version": "1.2.0",
            "_view_name": "LayoutView",
            "align_content": null,
            "align_items": null,
            "align_self": null,
            "border": null,
            "bottom": null,
            "display": null,
            "flex": null,
            "flex_flow": null,
            "grid_area": null,
            "grid_auto_columns": null,
            "grid_auto_flow": null,
            "grid_auto_rows": null,
            "grid_column": null,
            "grid_gap": null,
            "grid_row": null,
            "grid_template_areas": null,
            "grid_template_columns": null,
            "grid_template_rows": null,
            "height": null,
            "justify_content": null,
            "justify_items": null,
            "left": null,
            "margin": null,
            "max_height": null,
            "max_width": null,
            "min_height": null,
            "min_width": null,
            "object_fit": null,
            "object_position": null,
            "order": null,
            "overflow": null,
            "overflow_x": null,
            "overflow_y": null,
            "padding": null,
            "right": null,
            "top": null,
            "visibility": null,
            "width": null
          }
        },
        "a93f51e232e84a9a943e515d0f54e693": {
          "model_module": "@jupyter-widgets/base",
          "model_name": "LayoutModel",
          "model_module_version": "1.2.0",
          "state": {
            "_model_module": "@jupyter-widgets/base",
            "_model_module_version": "1.2.0",
            "_model_name": "LayoutModel",
            "_view_count": null,
            "_view_module": "@jupyter-widgets/base",
            "_view_module_version": "1.2.0",
            "_view_name": "LayoutView",
            "align_content": null,
            "align_items": null,
            "align_self": null,
            "border": null,
            "bottom": null,
            "display": null,
            "flex": null,
            "flex_flow": null,
            "grid_area": null,
            "grid_auto_columns": null,
            "grid_auto_flow": null,
            "grid_auto_rows": null,
            "grid_column": null,
            "grid_gap": null,
            "grid_row": null,
            "grid_template_areas": null,
            "grid_template_columns": null,
            "grid_template_rows": null,
            "height": null,
            "justify_content": null,
            "justify_items": null,
            "left": null,
            "margin": null,
            "max_height": null,
            "max_width": null,
            "min_height": null,
            "min_width": null,
            "object_fit": null,
            "object_position": null,
            "order": null,
            "overflow": null,
            "overflow_x": null,
            "overflow_y": null,
            "padding": null,
            "right": null,
            "top": null,
            "visibility": null,
            "width": null
          }
        },
        "13aa81dce35e4de8be8c1f958d2cb302": {
          "model_module": "@jupyter-widgets/controls",
          "model_name": "DescriptionStyleModel",
          "model_module_version": "1.5.0",
          "state": {
            "_model_module": "@jupyter-widgets/controls",
            "_model_module_version": "1.5.0",
            "_model_name": "DescriptionStyleModel",
            "_view_count": null,
            "_view_module": "@jupyter-widgets/base",
            "_view_module_version": "1.2.0",
            "_view_name": "StyleView",
            "description_width": ""
          }
        },
        "fed45f7e52ce44678632a9dedc798c0b": {
          "model_module": "@jupyter-widgets/base",
          "model_name": "LayoutModel",
          "model_module_version": "1.2.0",
          "state": {
            "_model_module": "@jupyter-widgets/base",
            "_model_module_version": "1.2.0",
            "_model_name": "LayoutModel",
            "_view_count": null,
            "_view_module": "@jupyter-widgets/base",
            "_view_module_version": "1.2.0",
            "_view_name": "LayoutView",
            "align_content": null,
            "align_items": null,
            "align_self": null,
            "border": null,
            "bottom": null,
            "display": null,
            "flex": null,
            "flex_flow": null,
            "grid_area": null,
            "grid_auto_columns": null,
            "grid_auto_flow": null,
            "grid_auto_rows": null,
            "grid_column": null,
            "grid_gap": null,
            "grid_row": null,
            "grid_template_areas": null,
            "grid_template_columns": null,
            "grid_template_rows": null,
            "height": null,
            "justify_content": null,
            "justify_items": null,
            "left": null,
            "margin": null,
            "max_height": null,
            "max_width": null,
            "min_height": null,
            "min_width": null,
            "object_fit": null,
            "object_position": null,
            "order": null,
            "overflow": null,
            "overflow_x": null,
            "overflow_y": null,
            "padding": null,
            "right": null,
            "top": null,
            "visibility": null,
            "width": null
          }
        },
        "fe3b6a8c3e8c47f8b504e290418d82b7": {
          "model_module": "@jupyter-widgets/controls",
          "model_name": "ProgressStyleModel",
          "model_module_version": "1.5.0",
          "state": {
            "_model_module": "@jupyter-widgets/controls",
            "_model_module_version": "1.5.0",
            "_model_name": "ProgressStyleModel",
            "_view_count": null,
            "_view_module": "@jupyter-widgets/base",
            "_view_module_version": "1.2.0",
            "_view_name": "StyleView",
            "bar_color": null,
            "description_width": ""
          }
        },
        "3364fed58b614c52835df406547a31f3": {
          "model_module": "@jupyter-widgets/base",
          "model_name": "LayoutModel",
          "model_module_version": "1.2.0",
          "state": {
            "_model_module": "@jupyter-widgets/base",
            "_model_module_version": "1.2.0",
            "_model_name": "LayoutModel",
            "_view_count": null,
            "_view_module": "@jupyter-widgets/base",
            "_view_module_version": "1.2.0",
            "_view_name": "LayoutView",
            "align_content": null,
            "align_items": null,
            "align_self": null,
            "border": null,
            "bottom": null,
            "display": null,
            "flex": null,
            "flex_flow": null,
            "grid_area": null,
            "grid_auto_columns": null,
            "grid_auto_flow": null,
            "grid_auto_rows": null,
            "grid_column": null,
            "grid_gap": null,
            "grid_row": null,
            "grid_template_areas": null,
            "grid_template_columns": null,
            "grid_template_rows": null,
            "height": null,
            "justify_content": null,
            "justify_items": null,
            "left": null,
            "margin": null,
            "max_height": null,
            "max_width": null,
            "min_height": null,
            "min_width": null,
            "object_fit": null,
            "object_position": null,
            "order": null,
            "overflow": null,
            "overflow_x": null,
            "overflow_y": null,
            "padding": null,
            "right": null,
            "top": null,
            "visibility": null,
            "width": null
          }
        },
        "753b3c424fc049b199e9eee8bb9811f2": {
          "model_module": "@jupyter-widgets/controls",
          "model_name": "DescriptionStyleModel",
          "model_module_version": "1.5.0",
          "state": {
            "_model_module": "@jupyter-widgets/controls",
            "_model_module_version": "1.5.0",
            "_model_name": "DescriptionStyleModel",
            "_view_count": null,
            "_view_module": "@jupyter-widgets/base",
            "_view_module_version": "1.2.0",
            "_view_name": "StyleView",
            "description_width": ""
          }
        },
        "54ae571e7d5d442480b197445ba4d5c1": {
          "model_module": "@jupyter-widgets/controls",
          "model_name": "HBoxModel",
          "model_module_version": "1.5.0",
          "state": {
            "_dom_classes": [],
            "_model_module": "@jupyter-widgets/controls",
            "_model_module_version": "1.5.0",
            "_model_name": "HBoxModel",
            "_view_count": null,
            "_view_module": "@jupyter-widgets/controls",
            "_view_module_version": "1.5.0",
            "_view_name": "HBoxView",
            "box_style": "",
            "children": [
              "IPY_MODEL_0772da11e25b426194292bafd1b3e18e",
              "IPY_MODEL_31548852119c405d86f1de7176398e69",
              "IPY_MODEL_6b5550a3bf56439a9ab724c0bfcde071"
            ],
            "layout": "IPY_MODEL_f394ba2a83944a03a5473f3a5e95d232"
          }
        },
        "0772da11e25b426194292bafd1b3e18e": {
          "model_module": "@jupyter-widgets/controls",
          "model_name": "HTMLModel",
          "model_module_version": "1.5.0",
          "state": {
            "_dom_classes": [],
            "_model_module": "@jupyter-widgets/controls",
            "_model_module_version": "1.5.0",
            "_model_name": "HTMLModel",
            "_view_count": null,
            "_view_module": "@jupyter-widgets/controls",
            "_view_module_version": "1.5.0",
            "_view_name": "HTMLView",
            "description": "",
            "description_tooltip": null,
            "layout": "IPY_MODEL_13bd015cb9624071aaa72e89d877f73d",
            "placeholder": "​",
            "style": "IPY_MODEL_4ffd34a61ee345e6b7fab8bc9f6808a2",
            "value": "(…)coder/resolve/main/tokenizer_config.json: 100%"
          }
        },
        "31548852119c405d86f1de7176398e69": {
          "model_module": "@jupyter-widgets/controls",
          "model_name": "FloatProgressModel",
          "model_module_version": "1.5.0",
          "state": {
            "_dom_classes": [],
            "_model_module": "@jupyter-widgets/controls",
            "_model_module_version": "1.5.0",
            "_model_name": "FloatProgressModel",
            "_view_count": null,
            "_view_module": "@jupyter-widgets/controls",
            "_view_module_version": "1.5.0",
            "_view_name": "ProgressView",
            "bar_style": "success",
            "description": "",
            "description_tooltip": null,
            "layout": "IPY_MODEL_ccfc3c0d70ff43de946275db32a2bda6",
            "max": 1488,
            "min": 0,
            "orientation": "horizontal",
            "style": "IPY_MODEL_57b9e86a06374f57a21c9c937fbaf57f",
            "value": 1488
          }
        },
        "6b5550a3bf56439a9ab724c0bfcde071": {
          "model_module": "@jupyter-widgets/controls",
          "model_name": "HTMLModel",
          "model_module_version": "1.5.0",
          "state": {
            "_dom_classes": [],
            "_model_module": "@jupyter-widgets/controls",
            "_model_module_version": "1.5.0",
            "_model_name": "HTMLModel",
            "_view_count": null,
            "_view_module": "@jupyter-widgets/controls",
            "_view_module_version": "1.5.0",
            "_view_name": "HTMLView",
            "description": "",
            "description_tooltip": null,
            "layout": "IPY_MODEL_c3c327f307a141f59440c22e287be4a5",
            "placeholder": "​",
            "style": "IPY_MODEL_dfcb4ca1332b429bbbabccd1417bfd46",
            "value": " 1.49k/1.49k [00:00&lt;00:00, 99.3kB/s]"
          }
        },
        "f394ba2a83944a03a5473f3a5e95d232": {
          "model_module": "@jupyter-widgets/base",
          "model_name": "LayoutModel",
          "model_module_version": "1.2.0",
          "state": {
            "_model_module": "@jupyter-widgets/base",
            "_model_module_version": "1.2.0",
            "_model_name": "LayoutModel",
            "_view_count": null,
            "_view_module": "@jupyter-widgets/base",
            "_view_module_version": "1.2.0",
            "_view_name": "LayoutView",
            "align_content": null,
            "align_items": null,
            "align_self": null,
            "border": null,
            "bottom": null,
            "display": null,
            "flex": null,
            "flex_flow": null,
            "grid_area": null,
            "grid_auto_columns": null,
            "grid_auto_flow": null,
            "grid_auto_rows": null,
            "grid_column": null,
            "grid_gap": null,
            "grid_row": null,
            "grid_template_areas": null,
            "grid_template_columns": null,
            "grid_template_rows": null,
            "height": null,
            "justify_content": null,
            "justify_items": null,
            "left": null,
            "margin": null,
            "max_height": null,
            "max_width": null,
            "min_height": null,
            "min_width": null,
            "object_fit": null,
            "object_position": null,
            "order": null,
            "overflow": null,
            "overflow_x": null,
            "overflow_y": null,
            "padding": null,
            "right": null,
            "top": null,
            "visibility": null,
            "width": null
          }
        },
        "13bd015cb9624071aaa72e89d877f73d": {
          "model_module": "@jupyter-widgets/base",
          "model_name": "LayoutModel",
          "model_module_version": "1.2.0",
          "state": {
            "_model_module": "@jupyter-widgets/base",
            "_model_module_version": "1.2.0",
            "_model_name": "LayoutModel",
            "_view_count": null,
            "_view_module": "@jupyter-widgets/base",
            "_view_module_version": "1.2.0",
            "_view_name": "LayoutView",
            "align_content": null,
            "align_items": null,
            "align_self": null,
            "border": null,
            "bottom": null,
            "display": null,
            "flex": null,
            "flex_flow": null,
            "grid_area": null,
            "grid_auto_columns": null,
            "grid_auto_flow": null,
            "grid_auto_rows": null,
            "grid_column": null,
            "grid_gap": null,
            "grid_row": null,
            "grid_template_areas": null,
            "grid_template_columns": null,
            "grid_template_rows": null,
            "height": null,
            "justify_content": null,
            "justify_items": null,
            "left": null,
            "margin": null,
            "max_height": null,
            "max_width": null,
            "min_height": null,
            "min_width": null,
            "object_fit": null,
            "object_position": null,
            "order": null,
            "overflow": null,
            "overflow_x": null,
            "overflow_y": null,
            "padding": null,
            "right": null,
            "top": null,
            "visibility": null,
            "width": null
          }
        },
        "4ffd34a61ee345e6b7fab8bc9f6808a2": {
          "model_module": "@jupyter-widgets/controls",
          "model_name": "DescriptionStyleModel",
          "model_module_version": "1.5.0",
          "state": {
            "_model_module": "@jupyter-widgets/controls",
            "_model_module_version": "1.5.0",
            "_model_name": "DescriptionStyleModel",
            "_view_count": null,
            "_view_module": "@jupyter-widgets/base",
            "_view_module_version": "1.2.0",
            "_view_name": "StyleView",
            "description_width": ""
          }
        },
        "ccfc3c0d70ff43de946275db32a2bda6": {
          "model_module": "@jupyter-widgets/base",
          "model_name": "LayoutModel",
          "model_module_version": "1.2.0",
          "state": {
            "_model_module": "@jupyter-widgets/base",
            "_model_module_version": "1.2.0",
            "_model_name": "LayoutModel",
            "_view_count": null,
            "_view_module": "@jupyter-widgets/base",
            "_view_module_version": "1.2.0",
            "_view_name": "LayoutView",
            "align_content": null,
            "align_items": null,
            "align_self": null,
            "border": null,
            "bottom": null,
            "display": null,
            "flex": null,
            "flex_flow": null,
            "grid_area": null,
            "grid_auto_columns": null,
            "grid_auto_flow": null,
            "grid_auto_rows": null,
            "grid_column": null,
            "grid_gap": null,
            "grid_row": null,
            "grid_template_areas": null,
            "grid_template_columns": null,
            "grid_template_rows": null,
            "height": null,
            "justify_content": null,
            "justify_items": null,
            "left": null,
            "margin": null,
            "max_height": null,
            "max_width": null,
            "min_height": null,
            "min_width": null,
            "object_fit": null,
            "object_position": null,
            "order": null,
            "overflow": null,
            "overflow_x": null,
            "overflow_y": null,
            "padding": null,
            "right": null,
            "top": null,
            "visibility": null,
            "width": null
          }
        },
        "57b9e86a06374f57a21c9c937fbaf57f": {
          "model_module": "@jupyter-widgets/controls",
          "model_name": "ProgressStyleModel",
          "model_module_version": "1.5.0",
          "state": {
            "_model_module": "@jupyter-widgets/controls",
            "_model_module_version": "1.5.0",
            "_model_name": "ProgressStyleModel",
            "_view_count": null,
            "_view_module": "@jupyter-widgets/base",
            "_view_module_version": "1.2.0",
            "_view_name": "StyleView",
            "bar_color": null,
            "description_width": ""
          }
        },
        "c3c327f307a141f59440c22e287be4a5": {
          "model_module": "@jupyter-widgets/base",
          "model_name": "LayoutModel",
          "model_module_version": "1.2.0",
          "state": {
            "_model_module": "@jupyter-widgets/base",
            "_model_module_version": "1.2.0",
            "_model_name": "LayoutModel",
            "_view_count": null,
            "_view_module": "@jupyter-widgets/base",
            "_view_module_version": "1.2.0",
            "_view_name": "LayoutView",
            "align_content": null,
            "align_items": null,
            "align_self": null,
            "border": null,
            "bottom": null,
            "display": null,
            "flex": null,
            "flex_flow": null,
            "grid_area": null,
            "grid_auto_columns": null,
            "grid_auto_flow": null,
            "grid_auto_rows": null,
            "grid_column": null,
            "grid_gap": null,
            "grid_row": null,
            "grid_template_areas": null,
            "grid_template_columns": null,
            "grid_template_rows": null,
            "height": null,
            "justify_content": null,
            "justify_items": null,
            "left": null,
            "margin": null,
            "max_height": null,
            "max_width": null,
            "min_height": null,
            "min_width": null,
            "object_fit": null,
            "object_position": null,
            "order": null,
            "overflow": null,
            "overflow_x": null,
            "overflow_y": null,
            "padding": null,
            "right": null,
            "top": null,
            "visibility": null,
            "width": null
          }
        },
        "dfcb4ca1332b429bbbabccd1417bfd46": {
          "model_module": "@jupyter-widgets/controls",
          "model_name": "DescriptionStyleModel",
          "model_module_version": "1.5.0",
          "state": {
            "_model_module": "@jupyter-widgets/controls",
            "_model_module_version": "1.5.0",
            "_model_name": "DescriptionStyleModel",
            "_view_count": null,
            "_view_module": "@jupyter-widgets/base",
            "_view_module_version": "1.2.0",
            "_view_name": "StyleView",
            "description_width": ""
          }
        },
        "37ffb899b28c41cca152fe2a0cc3ea47": {
          "model_module": "@jupyter-widgets/controls",
          "model_name": "HBoxModel",
          "model_module_version": "1.5.0",
          "state": {
            "_dom_classes": [],
            "_model_module": "@jupyter-widgets/controls",
            "_model_module_version": "1.5.0",
            "_model_name": "HBoxModel",
            "_view_count": null,
            "_view_module": "@jupyter-widgets/controls",
            "_view_module_version": "1.5.0",
            "_view_name": "HBoxView",
            "box_style": "",
            "children": [
              "IPY_MODEL_610285a14ca84feda1073923c1ea2231",
              "IPY_MODEL_d3fdd3d7ca1b4bd5818a8fec2227adc9",
              "IPY_MODEL_b50d29c85c264c58b54a9dad8126cc05"
            ],
            "layout": "IPY_MODEL_2717191e23b443ae8843dd57e6ed52b3"
          }
        },
        "610285a14ca84feda1073923c1ea2231": {
          "model_module": "@jupyter-widgets/controls",
          "model_name": "HTMLModel",
          "model_module_version": "1.5.0",
          "state": {
            "_dom_classes": [],
            "_model_module": "@jupyter-widgets/controls",
            "_model_module_version": "1.5.0",
            "_model_name": "HTMLModel",
            "_view_count": null,
            "_view_module": "@jupyter-widgets/controls",
            "_view_module_version": "1.5.0",
            "_view_name": "HTMLView",
            "description": "",
            "description_tooltip": null,
            "layout": "IPY_MODEL_6c5da528a3fe49c496e5a2f3cffcc89d",
            "placeholder": "​",
            "style": "IPY_MODEL_9f01911b5b604d6593b6b06575f376cd",
            "value": "(…)T-Article-Encoder/resolve/main/vocab.txt: 100%"
          }
        },
        "d3fdd3d7ca1b4bd5818a8fec2227adc9": {
          "model_module": "@jupyter-widgets/controls",
          "model_name": "FloatProgressModel",
          "model_module_version": "1.5.0",
          "state": {
            "_dom_classes": [],
            "_model_module": "@jupyter-widgets/controls",
            "_model_module_version": "1.5.0",
            "_model_name": "FloatProgressModel",
            "_view_count": null,
            "_view_module": "@jupyter-widgets/controls",
            "_view_module_version": "1.5.0",
            "_view_name": "ProgressView",
            "bar_style": "success",
            "description": "",
            "description_tooltip": null,
            "layout": "IPY_MODEL_baa1f6f144034b91912939c88c83492a",
            "max": 226150,
            "min": 0,
            "orientation": "horizontal",
            "style": "IPY_MODEL_fdd060f3c4ef47bc90db2c4b216d540a",
            "value": 226150
          }
        },
        "b50d29c85c264c58b54a9dad8126cc05": {
          "model_module": "@jupyter-widgets/controls",
          "model_name": "HTMLModel",
          "model_module_version": "1.5.0",
          "state": {
            "_dom_classes": [],
            "_model_module": "@jupyter-widgets/controls",
            "_model_module_version": "1.5.0",
            "_model_name": "HTMLModel",
            "_view_count": null,
            "_view_module": "@jupyter-widgets/controls",
            "_view_module_version": "1.5.0",
            "_view_name": "HTMLView",
            "description": "",
            "description_tooltip": null,
            "layout": "IPY_MODEL_d4f716e4d3d74a42ac135b973b728f8e",
            "placeholder": "​",
            "style": "IPY_MODEL_14ee63c26c8e4a7d92a8cb3a0f0ba562",
            "value": " 226k/226k [00:00&lt;00:00, 5.10MB/s]"
          }
        },
        "2717191e23b443ae8843dd57e6ed52b3": {
          "model_module": "@jupyter-widgets/base",
          "model_name": "LayoutModel",
          "model_module_version": "1.2.0",
          "state": {
            "_model_module": "@jupyter-widgets/base",
            "_model_module_version": "1.2.0",
            "_model_name": "LayoutModel",
            "_view_count": null,
            "_view_module": "@jupyter-widgets/base",
            "_view_module_version": "1.2.0",
            "_view_name": "LayoutView",
            "align_content": null,
            "align_items": null,
            "align_self": null,
            "border": null,
            "bottom": null,
            "display": null,
            "flex": null,
            "flex_flow": null,
            "grid_area": null,
            "grid_auto_columns": null,
            "grid_auto_flow": null,
            "grid_auto_rows": null,
            "grid_column": null,
            "grid_gap": null,
            "grid_row": null,
            "grid_template_areas": null,
            "grid_template_columns": null,
            "grid_template_rows": null,
            "height": null,
            "justify_content": null,
            "justify_items": null,
            "left": null,
            "margin": null,
            "max_height": null,
            "max_width": null,
            "min_height": null,
            "min_width": null,
            "object_fit": null,
            "object_position": null,
            "order": null,
            "overflow": null,
            "overflow_x": null,
            "overflow_y": null,
            "padding": null,
            "right": null,
            "top": null,
            "visibility": null,
            "width": null
          }
        },
        "6c5da528a3fe49c496e5a2f3cffcc89d": {
          "model_module": "@jupyter-widgets/base",
          "model_name": "LayoutModel",
          "model_module_version": "1.2.0",
          "state": {
            "_model_module": "@jupyter-widgets/base",
            "_model_module_version": "1.2.0",
            "_model_name": "LayoutModel",
            "_view_count": null,
            "_view_module": "@jupyter-widgets/base",
            "_view_module_version": "1.2.0",
            "_view_name": "LayoutView",
            "align_content": null,
            "align_items": null,
            "align_self": null,
            "border": null,
            "bottom": null,
            "display": null,
            "flex": null,
            "flex_flow": null,
            "grid_area": null,
            "grid_auto_columns": null,
            "grid_auto_flow": null,
            "grid_auto_rows": null,
            "grid_column": null,
            "grid_gap": null,
            "grid_row": null,
            "grid_template_areas": null,
            "grid_template_columns": null,
            "grid_template_rows": null,
            "height": null,
            "justify_content": null,
            "justify_items": null,
            "left": null,
            "margin": null,
            "max_height": null,
            "max_width": null,
            "min_height": null,
            "min_width": null,
            "object_fit": null,
            "object_position": null,
            "order": null,
            "overflow": null,
            "overflow_x": null,
            "overflow_y": null,
            "padding": null,
            "right": null,
            "top": null,
            "visibility": null,
            "width": null
          }
        },
        "9f01911b5b604d6593b6b06575f376cd": {
          "model_module": "@jupyter-widgets/controls",
          "model_name": "DescriptionStyleModel",
          "model_module_version": "1.5.0",
          "state": {
            "_model_module": "@jupyter-widgets/controls",
            "_model_module_version": "1.5.0",
            "_model_name": "DescriptionStyleModel",
            "_view_count": null,
            "_view_module": "@jupyter-widgets/base",
            "_view_module_version": "1.2.0",
            "_view_name": "StyleView",
            "description_width": ""
          }
        },
        "baa1f6f144034b91912939c88c83492a": {
          "model_module": "@jupyter-widgets/base",
          "model_name": "LayoutModel",
          "model_module_version": "1.2.0",
          "state": {
            "_model_module": "@jupyter-widgets/base",
            "_model_module_version": "1.2.0",
            "_model_name": "LayoutModel",
            "_view_count": null,
            "_view_module": "@jupyter-widgets/base",
            "_view_module_version": "1.2.0",
            "_view_name": "LayoutView",
            "align_content": null,
            "align_items": null,
            "align_self": null,
            "border": null,
            "bottom": null,
            "display": null,
            "flex": null,
            "flex_flow": null,
            "grid_area": null,
            "grid_auto_columns": null,
            "grid_auto_flow": null,
            "grid_auto_rows": null,
            "grid_column": null,
            "grid_gap": null,
            "grid_row": null,
            "grid_template_areas": null,
            "grid_template_columns": null,
            "grid_template_rows": null,
            "height": null,
            "justify_content": null,
            "justify_items": null,
            "left": null,
            "margin": null,
            "max_height": null,
            "max_width": null,
            "min_height": null,
            "min_width": null,
            "object_fit": null,
            "object_position": null,
            "order": null,
            "overflow": null,
            "overflow_x": null,
            "overflow_y": null,
            "padding": null,
            "right": null,
            "top": null,
            "visibility": null,
            "width": null
          }
        },
        "fdd060f3c4ef47bc90db2c4b216d540a": {
          "model_module": "@jupyter-widgets/controls",
          "model_name": "ProgressStyleModel",
          "model_module_version": "1.5.0",
          "state": {
            "_model_module": "@jupyter-widgets/controls",
            "_model_module_version": "1.5.0",
            "_model_name": "ProgressStyleModel",
            "_view_count": null,
            "_view_module": "@jupyter-widgets/base",
            "_view_module_version": "1.2.0",
            "_view_name": "StyleView",
            "bar_color": null,
            "description_width": ""
          }
        },
        "d4f716e4d3d74a42ac135b973b728f8e": {
          "model_module": "@jupyter-widgets/base",
          "model_name": "LayoutModel",
          "model_module_version": "1.2.0",
          "state": {
            "_model_module": "@jupyter-widgets/base",
            "_model_module_version": "1.2.0",
            "_model_name": "LayoutModel",
            "_view_count": null,
            "_view_module": "@jupyter-widgets/base",
            "_view_module_version": "1.2.0",
            "_view_name": "LayoutView",
            "align_content": null,
            "align_items": null,
            "align_self": null,
            "border": null,
            "bottom": null,
            "display": null,
            "flex": null,
            "flex_flow": null,
            "grid_area": null,
            "grid_auto_columns": null,
            "grid_auto_flow": null,
            "grid_auto_rows": null,
            "grid_column": null,
            "grid_gap": null,
            "grid_row": null,
            "grid_template_areas": null,
            "grid_template_columns": null,
            "grid_template_rows": null,
            "height": null,
            "justify_content": null,
            "justify_items": null,
            "left": null,
            "margin": null,
            "max_height": null,
            "max_width": null,
            "min_height": null,
            "min_width": null,
            "object_fit": null,
            "object_position": null,
            "order": null,
            "overflow": null,
            "overflow_x": null,
            "overflow_y": null,
            "padding": null,
            "right": null,
            "top": null,
            "visibility": null,
            "width": null
          }
        },
        "14ee63c26c8e4a7d92a8cb3a0f0ba562": {
          "model_module": "@jupyter-widgets/controls",
          "model_name": "DescriptionStyleModel",
          "model_module_version": "1.5.0",
          "state": {
            "_model_module": "@jupyter-widgets/controls",
            "_model_module_version": "1.5.0",
            "_model_name": "DescriptionStyleModel",
            "_view_count": null,
            "_view_module": "@jupyter-widgets/base",
            "_view_module_version": "1.2.0",
            "_view_name": "StyleView",
            "description_width": ""
          }
        },
        "2609a9792d0c4cadbe1ff10baf61e736": {
          "model_module": "@jupyter-widgets/controls",
          "model_name": "HBoxModel",
          "model_module_version": "1.5.0",
          "state": {
            "_dom_classes": [],
            "_model_module": "@jupyter-widgets/controls",
            "_model_module_version": "1.5.0",
            "_model_name": "HBoxModel",
            "_view_count": null,
            "_view_module": "@jupyter-widgets/controls",
            "_view_module_version": "1.5.0",
            "_view_name": "HBoxView",
            "box_style": "",
            "children": [
              "IPY_MODEL_e07b4e9700df4122a3a4473666a91281",
              "IPY_MODEL_c1dd93f15ec24e9d8e61061f11d47bc2",
              "IPY_MODEL_44dcc8f11d3a4c7a827a421296558b6a"
            ],
            "layout": "IPY_MODEL_211580d464b14496a8a822b76808c833"
          }
        },
        "e07b4e9700df4122a3a4473666a91281": {
          "model_module": "@jupyter-widgets/controls",
          "model_name": "HTMLModel",
          "model_module_version": "1.5.0",
          "state": {
            "_dom_classes": [],
            "_model_module": "@jupyter-widgets/controls",
            "_model_module_version": "1.5.0",
            "_model_name": "HTMLModel",
            "_view_count": null,
            "_view_module": "@jupyter-widgets/controls",
            "_view_module_version": "1.5.0",
            "_view_name": "HTMLView",
            "description": "",
            "description_tooltip": null,
            "layout": "IPY_MODEL_c26a3af8f2ee47c3a536fb0edde073fc",
            "placeholder": "​",
            "style": "IPY_MODEL_39f842a9e606407bb1f136d72a163785",
            "value": "(…)icle-Encoder/resolve/main/tokenizer.json: 100%"
          }
        },
        "c1dd93f15ec24e9d8e61061f11d47bc2": {
          "model_module": "@jupyter-widgets/controls",
          "model_name": "FloatProgressModel",
          "model_module_version": "1.5.0",
          "state": {
            "_dom_classes": [],
            "_model_module": "@jupyter-widgets/controls",
            "_model_module_version": "1.5.0",
            "_model_name": "FloatProgressModel",
            "_view_count": null,
            "_view_module": "@jupyter-widgets/controls",
            "_view_module_version": "1.5.0",
            "_view_name": "ProgressView",
            "bar_style": "success",
            "description": "",
            "description_tooltip": null,
            "layout": "IPY_MODEL_4c73b8baa71e44c4ba98de592f045373",
            "max": 706277,
            "min": 0,
            "orientation": "horizontal",
            "style": "IPY_MODEL_6b913a2ce2c04d579f383a3a2d626e98",
            "value": 706277
          }
        },
        "44dcc8f11d3a4c7a827a421296558b6a": {
          "model_module": "@jupyter-widgets/controls",
          "model_name": "HTMLModel",
          "model_module_version": "1.5.0",
          "state": {
            "_dom_classes": [],
            "_model_module": "@jupyter-widgets/controls",
            "_model_module_version": "1.5.0",
            "_model_name": "HTMLModel",
            "_view_count": null,
            "_view_module": "@jupyter-widgets/controls",
            "_view_module_version": "1.5.0",
            "_view_name": "HTMLView",
            "description": "",
            "description_tooltip": null,
            "layout": "IPY_MODEL_691c21e974044e10aa7a44f37132148c",
            "placeholder": "​",
            "style": "IPY_MODEL_f593cef9f8ef4f389ea30d8d0396ce28",
            "value": " 706k/706k [00:00&lt;00:00, 10.8MB/s]"
          }
        },
        "211580d464b14496a8a822b76808c833": {
          "model_module": "@jupyter-widgets/base",
          "model_name": "LayoutModel",
          "model_module_version": "1.2.0",
          "state": {
            "_model_module": "@jupyter-widgets/base",
            "_model_module_version": "1.2.0",
            "_model_name": "LayoutModel",
            "_view_count": null,
            "_view_module": "@jupyter-widgets/base",
            "_view_module_version": "1.2.0",
            "_view_name": "LayoutView",
            "align_content": null,
            "align_items": null,
            "align_self": null,
            "border": null,
            "bottom": null,
            "display": null,
            "flex": null,
            "flex_flow": null,
            "grid_area": null,
            "grid_auto_columns": null,
            "grid_auto_flow": null,
            "grid_auto_rows": null,
            "grid_column": null,
            "grid_gap": null,
            "grid_row": null,
            "grid_template_areas": null,
            "grid_template_columns": null,
            "grid_template_rows": null,
            "height": null,
            "justify_content": null,
            "justify_items": null,
            "left": null,
            "margin": null,
            "max_height": null,
            "max_width": null,
            "min_height": null,
            "min_width": null,
            "object_fit": null,
            "object_position": null,
            "order": null,
            "overflow": null,
            "overflow_x": null,
            "overflow_y": null,
            "padding": null,
            "right": null,
            "top": null,
            "visibility": null,
            "width": null
          }
        },
        "c26a3af8f2ee47c3a536fb0edde073fc": {
          "model_module": "@jupyter-widgets/base",
          "model_name": "LayoutModel",
          "model_module_version": "1.2.0",
          "state": {
            "_model_module": "@jupyter-widgets/base",
            "_model_module_version": "1.2.0",
            "_model_name": "LayoutModel",
            "_view_count": null,
            "_view_module": "@jupyter-widgets/base",
            "_view_module_version": "1.2.0",
            "_view_name": "LayoutView",
            "align_content": null,
            "align_items": null,
            "align_self": null,
            "border": null,
            "bottom": null,
            "display": null,
            "flex": null,
            "flex_flow": null,
            "grid_area": null,
            "grid_auto_columns": null,
            "grid_auto_flow": null,
            "grid_auto_rows": null,
            "grid_column": null,
            "grid_gap": null,
            "grid_row": null,
            "grid_template_areas": null,
            "grid_template_columns": null,
            "grid_template_rows": null,
            "height": null,
            "justify_content": null,
            "justify_items": null,
            "left": null,
            "margin": null,
            "max_height": null,
            "max_width": null,
            "min_height": null,
            "min_width": null,
            "object_fit": null,
            "object_position": null,
            "order": null,
            "overflow": null,
            "overflow_x": null,
            "overflow_y": null,
            "padding": null,
            "right": null,
            "top": null,
            "visibility": null,
            "width": null
          }
        },
        "39f842a9e606407bb1f136d72a163785": {
          "model_module": "@jupyter-widgets/controls",
          "model_name": "DescriptionStyleModel",
          "model_module_version": "1.5.0",
          "state": {
            "_model_module": "@jupyter-widgets/controls",
            "_model_module_version": "1.5.0",
            "_model_name": "DescriptionStyleModel",
            "_view_count": null,
            "_view_module": "@jupyter-widgets/base",
            "_view_module_version": "1.2.0",
            "_view_name": "StyleView",
            "description_width": ""
          }
        },
        "4c73b8baa71e44c4ba98de592f045373": {
          "model_module": "@jupyter-widgets/base",
          "model_name": "LayoutModel",
          "model_module_version": "1.2.0",
          "state": {
            "_model_module": "@jupyter-widgets/base",
            "_model_module_version": "1.2.0",
            "_model_name": "LayoutModel",
            "_view_count": null,
            "_view_module": "@jupyter-widgets/base",
            "_view_module_version": "1.2.0",
            "_view_name": "LayoutView",
            "align_content": null,
            "align_items": null,
            "align_self": null,
            "border": null,
            "bottom": null,
            "display": null,
            "flex": null,
            "flex_flow": null,
            "grid_area": null,
            "grid_auto_columns": null,
            "grid_auto_flow": null,
            "grid_auto_rows": null,
            "grid_column": null,
            "grid_gap": null,
            "grid_row": null,
            "grid_template_areas": null,
            "grid_template_columns": null,
            "grid_template_rows": null,
            "height": null,
            "justify_content": null,
            "justify_items": null,
            "left": null,
            "margin": null,
            "max_height": null,
            "max_width": null,
            "min_height": null,
            "min_width": null,
            "object_fit": null,
            "object_position": null,
            "order": null,
            "overflow": null,
            "overflow_x": null,
            "overflow_y": null,
            "padding": null,
            "right": null,
            "top": null,
            "visibility": null,
            "width": null
          }
        },
        "6b913a2ce2c04d579f383a3a2d626e98": {
          "model_module": "@jupyter-widgets/controls",
          "model_name": "ProgressStyleModel",
          "model_module_version": "1.5.0",
          "state": {
            "_model_module": "@jupyter-widgets/controls",
            "_model_module_version": "1.5.0",
            "_model_name": "ProgressStyleModel",
            "_view_count": null,
            "_view_module": "@jupyter-widgets/base",
            "_view_module_version": "1.2.0",
            "_view_name": "StyleView",
            "bar_color": null,
            "description_width": ""
          }
        },
        "691c21e974044e10aa7a44f37132148c": {
          "model_module": "@jupyter-widgets/base",
          "model_name": "LayoutModel",
          "model_module_version": "1.2.0",
          "state": {
            "_model_module": "@jupyter-widgets/base",
            "_model_module_version": "1.2.0",
            "_model_name": "LayoutModel",
            "_view_count": null,
            "_view_module": "@jupyter-widgets/base",
            "_view_module_version": "1.2.0",
            "_view_name": "LayoutView",
            "align_content": null,
            "align_items": null,
            "align_self": null,
            "border": null,
            "bottom": null,
            "display": null,
            "flex": null,
            "flex_flow": null,
            "grid_area": null,
            "grid_auto_columns": null,
            "grid_auto_flow": null,
            "grid_auto_rows": null,
            "grid_column": null,
            "grid_gap": null,
            "grid_row": null,
            "grid_template_areas": null,
            "grid_template_columns": null,
            "grid_template_rows": null,
            "height": null,
            "justify_content": null,
            "justify_items": null,
            "left": null,
            "margin": null,
            "max_height": null,
            "max_width": null,
            "min_height": null,
            "min_width": null,
            "object_fit": null,
            "object_position": null,
            "order": null,
            "overflow": null,
            "overflow_x": null,
            "overflow_y": null,
            "padding": null,
            "right": null,
            "top": null,
            "visibility": null,
            "width": null
          }
        },
        "f593cef9f8ef4f389ea30d8d0396ce28": {
          "model_module": "@jupyter-widgets/controls",
          "model_name": "DescriptionStyleModel",
          "model_module_version": "1.5.0",
          "state": {
            "_model_module": "@jupyter-widgets/controls",
            "_model_module_version": "1.5.0",
            "_model_name": "DescriptionStyleModel",
            "_view_count": null,
            "_view_module": "@jupyter-widgets/base",
            "_view_module_version": "1.2.0",
            "_view_name": "StyleView",
            "description_width": ""
          }
        },
        "5f5542b4c86d4a32ad254576d5c0a5b8": {
          "model_module": "@jupyter-widgets/controls",
          "model_name": "HBoxModel",
          "model_module_version": "1.5.0",
          "state": {
            "_dom_classes": [],
            "_model_module": "@jupyter-widgets/controls",
            "_model_module_version": "1.5.0",
            "_model_name": "HBoxModel",
            "_view_count": null,
            "_view_module": "@jupyter-widgets/controls",
            "_view_module_version": "1.5.0",
            "_view_name": "HBoxView",
            "box_style": "",
            "children": [
              "IPY_MODEL_84af8225d4f84f778f258c3719e6c1d3",
              "IPY_MODEL_2beabc1444994093af219dd0c5e0c226",
              "IPY_MODEL_1391d7d32b374a80bce2a4155a629845"
            ],
            "layout": "IPY_MODEL_d46f47e597a34ff9ad3bf0b5ca5876d7"
          }
        },
        "84af8225d4f84f778f258c3719e6c1d3": {
          "model_module": "@jupyter-widgets/controls",
          "model_name": "HTMLModel",
          "model_module_version": "1.5.0",
          "state": {
            "_dom_classes": [],
            "_model_module": "@jupyter-widgets/controls",
            "_model_module_version": "1.5.0",
            "_model_name": "HTMLModel",
            "_view_count": null,
            "_view_module": "@jupyter-widgets/controls",
            "_view_module_version": "1.5.0",
            "_view_name": "HTMLView",
            "description": "",
            "description_tooltip": null,
            "layout": "IPY_MODEL_a1668b135e8142f9bfae2b06bf9ee215",
            "placeholder": "​",
            "style": "IPY_MODEL_71388f6d11f944aeadbfcca7a2856b05",
            "value": "(…)e-Encoder/resolve/main/added_tokens.json: 100%"
          }
        },
        "2beabc1444994093af219dd0c5e0c226": {
          "model_module": "@jupyter-widgets/controls",
          "model_name": "FloatProgressModel",
          "model_module_version": "1.5.0",
          "state": {
            "_dom_classes": [],
            "_model_module": "@jupyter-widgets/controls",
            "_model_module_version": "1.5.0",
            "_model_name": "FloatProgressModel",
            "_view_count": null,
            "_view_module": "@jupyter-widgets/controls",
            "_view_module_version": "1.5.0",
            "_view_name": "ProgressView",
            "bar_style": "success",
            "description": "",
            "description_tooltip": null,
            "layout": "IPY_MODEL_32047b851ccf4db5ac00499045c1b92c",
            "max": 74,
            "min": 0,
            "orientation": "horizontal",
            "style": "IPY_MODEL_b3b4126c38d34c3184d2b2a8f507c602",
            "value": 74
          }
        },
        "1391d7d32b374a80bce2a4155a629845": {
          "model_module": "@jupyter-widgets/controls",
          "model_name": "HTMLModel",
          "model_module_version": "1.5.0",
          "state": {
            "_dom_classes": [],
            "_model_module": "@jupyter-widgets/controls",
            "_model_module_version": "1.5.0",
            "_model_name": "HTMLModel",
            "_view_count": null,
            "_view_module": "@jupyter-widgets/controls",
            "_view_module_version": "1.5.0",
            "_view_name": "HTMLView",
            "description": "",
            "description_tooltip": null,
            "layout": "IPY_MODEL_7aab75584ba942dd940689ce9f8fbc07",
            "placeholder": "​",
            "style": "IPY_MODEL_9d8ea0db1f5349d7834d013ae5397984",
            "value": " 74.0/74.0 [00:00&lt;00:00, 6.54kB/s]"
          }
        },
        "d46f47e597a34ff9ad3bf0b5ca5876d7": {
          "model_module": "@jupyter-widgets/base",
          "model_name": "LayoutModel",
          "model_module_version": "1.2.0",
          "state": {
            "_model_module": "@jupyter-widgets/base",
            "_model_module_version": "1.2.0",
            "_model_name": "LayoutModel",
            "_view_count": null,
            "_view_module": "@jupyter-widgets/base",
            "_view_module_version": "1.2.0",
            "_view_name": "LayoutView",
            "align_content": null,
            "align_items": null,
            "align_self": null,
            "border": null,
            "bottom": null,
            "display": null,
            "flex": null,
            "flex_flow": null,
            "grid_area": null,
            "grid_auto_columns": null,
            "grid_auto_flow": null,
            "grid_auto_rows": null,
            "grid_column": null,
            "grid_gap": null,
            "grid_row": null,
            "grid_template_areas": null,
            "grid_template_columns": null,
            "grid_template_rows": null,
            "height": null,
            "justify_content": null,
            "justify_items": null,
            "left": null,
            "margin": null,
            "max_height": null,
            "max_width": null,
            "min_height": null,
            "min_width": null,
            "object_fit": null,
            "object_position": null,
            "order": null,
            "overflow": null,
            "overflow_x": null,
            "overflow_y": null,
            "padding": null,
            "right": null,
            "top": null,
            "visibility": null,
            "width": null
          }
        },
        "a1668b135e8142f9bfae2b06bf9ee215": {
          "model_module": "@jupyter-widgets/base",
          "model_name": "LayoutModel",
          "model_module_version": "1.2.0",
          "state": {
            "_model_module": "@jupyter-widgets/base",
            "_model_module_version": "1.2.0",
            "_model_name": "LayoutModel",
            "_view_count": null,
            "_view_module": "@jupyter-widgets/base",
            "_view_module_version": "1.2.0",
            "_view_name": "LayoutView",
            "align_content": null,
            "align_items": null,
            "align_self": null,
            "border": null,
            "bottom": null,
            "display": null,
            "flex": null,
            "flex_flow": null,
            "grid_area": null,
            "grid_auto_columns": null,
            "grid_auto_flow": null,
            "grid_auto_rows": null,
            "grid_column": null,
            "grid_gap": null,
            "grid_row": null,
            "grid_template_areas": null,
            "grid_template_columns": null,
            "grid_template_rows": null,
            "height": null,
            "justify_content": null,
            "justify_items": null,
            "left": null,
            "margin": null,
            "max_height": null,
            "max_width": null,
            "min_height": null,
            "min_width": null,
            "object_fit": null,
            "object_position": null,
            "order": null,
            "overflow": null,
            "overflow_x": null,
            "overflow_y": null,
            "padding": null,
            "right": null,
            "top": null,
            "visibility": null,
            "width": null
          }
        },
        "71388f6d11f944aeadbfcca7a2856b05": {
          "model_module": "@jupyter-widgets/controls",
          "model_name": "DescriptionStyleModel",
          "model_module_version": "1.5.0",
          "state": {
            "_model_module": "@jupyter-widgets/controls",
            "_model_module_version": "1.5.0",
            "_model_name": "DescriptionStyleModel",
            "_view_count": null,
            "_view_module": "@jupyter-widgets/base",
            "_view_module_version": "1.2.0",
            "_view_name": "StyleView",
            "description_width": ""
          }
        },
        "32047b851ccf4db5ac00499045c1b92c": {
          "model_module": "@jupyter-widgets/base",
          "model_name": "LayoutModel",
          "model_module_version": "1.2.0",
          "state": {
            "_model_module": "@jupyter-widgets/base",
            "_model_module_version": "1.2.0",
            "_model_name": "LayoutModel",
            "_view_count": null,
            "_view_module": "@jupyter-widgets/base",
            "_view_module_version": "1.2.0",
            "_view_name": "LayoutView",
            "align_content": null,
            "align_items": null,
            "align_self": null,
            "border": null,
            "bottom": null,
            "display": null,
            "flex": null,
            "flex_flow": null,
            "grid_area": null,
            "grid_auto_columns": null,
            "grid_auto_flow": null,
            "grid_auto_rows": null,
            "grid_column": null,
            "grid_gap": null,
            "grid_row": null,
            "grid_template_areas": null,
            "grid_template_columns": null,
            "grid_template_rows": null,
            "height": null,
            "justify_content": null,
            "justify_items": null,
            "left": null,
            "margin": null,
            "max_height": null,
            "max_width": null,
            "min_height": null,
            "min_width": null,
            "object_fit": null,
            "object_position": null,
            "order": null,
            "overflow": null,
            "overflow_x": null,
            "overflow_y": null,
            "padding": null,
            "right": null,
            "top": null,
            "visibility": null,
            "width": null
          }
        },
        "b3b4126c38d34c3184d2b2a8f507c602": {
          "model_module": "@jupyter-widgets/controls",
          "model_name": "ProgressStyleModel",
          "model_module_version": "1.5.0",
          "state": {
            "_model_module": "@jupyter-widgets/controls",
            "_model_module_version": "1.5.0",
            "_model_name": "ProgressStyleModel",
            "_view_count": null,
            "_view_module": "@jupyter-widgets/base",
            "_view_module_version": "1.2.0",
            "_view_name": "StyleView",
            "bar_color": null,
            "description_width": ""
          }
        },
        "7aab75584ba942dd940689ce9f8fbc07": {
          "model_module": "@jupyter-widgets/base",
          "model_name": "LayoutModel",
          "model_module_version": "1.2.0",
          "state": {
            "_model_module": "@jupyter-widgets/base",
            "_model_module_version": "1.2.0",
            "_model_name": "LayoutModel",
            "_view_count": null,
            "_view_module": "@jupyter-widgets/base",
            "_view_module_version": "1.2.0",
            "_view_name": "LayoutView",
            "align_content": null,
            "align_items": null,
            "align_self": null,
            "border": null,
            "bottom": null,
            "display": null,
            "flex": null,
            "flex_flow": null,
            "grid_area": null,
            "grid_auto_columns": null,
            "grid_auto_flow": null,
            "grid_auto_rows": null,
            "grid_column": null,
            "grid_gap": null,
            "grid_row": null,
            "grid_template_areas": null,
            "grid_template_columns": null,
            "grid_template_rows": null,
            "height": null,
            "justify_content": null,
            "justify_items": null,
            "left": null,
            "margin": null,
            "max_height": null,
            "max_width": null,
            "min_height": null,
            "min_width": null,
            "object_fit": null,
            "object_position": null,
            "order": null,
            "overflow": null,
            "overflow_x": null,
            "overflow_y": null,
            "padding": null,
            "right": null,
            "top": null,
            "visibility": null,
            "width": null
          }
        },
        "9d8ea0db1f5349d7834d013ae5397984": {
          "model_module": "@jupyter-widgets/controls",
          "model_name": "DescriptionStyleModel",
          "model_module_version": "1.5.0",
          "state": {
            "_model_module": "@jupyter-widgets/controls",
            "_model_module_version": "1.5.0",
            "_model_name": "DescriptionStyleModel",
            "_view_count": null,
            "_view_module": "@jupyter-widgets/base",
            "_view_module_version": "1.2.0",
            "_view_name": "StyleView",
            "description_width": ""
          }
        },
        "e4621195f8d94013b48a23c6988d1e9b": {
          "model_module": "@jupyter-widgets/controls",
          "model_name": "HBoxModel",
          "model_module_version": "1.5.0",
          "state": {
            "_dom_classes": [],
            "_model_module": "@jupyter-widgets/controls",
            "_model_module_version": "1.5.0",
            "_model_name": "HBoxModel",
            "_view_count": null,
            "_view_module": "@jupyter-widgets/controls",
            "_view_module_version": "1.5.0",
            "_view_name": "HBoxView",
            "box_style": "",
            "children": [
              "IPY_MODEL_85206ee0e2da4550a27b7aa8fcca79f3",
              "IPY_MODEL_63c5a606e1214119ae4b626076e0c4a8",
              "IPY_MODEL_c17ad49dad9243f1a1441c35abc67a7b"
            ],
            "layout": "IPY_MODEL_a93a6b40ab40471e9f6abcf398ea7821"
          }
        },
        "85206ee0e2da4550a27b7aa8fcca79f3": {
          "model_module": "@jupyter-widgets/controls",
          "model_name": "HTMLModel",
          "model_module_version": "1.5.0",
          "state": {
            "_dom_classes": [],
            "_model_module": "@jupyter-widgets/controls",
            "_model_module_version": "1.5.0",
            "_model_name": "HTMLModel",
            "_view_count": null,
            "_view_module": "@jupyter-widgets/controls",
            "_view_module_version": "1.5.0",
            "_view_name": "HTMLView",
            "description": "",
            "description_tooltip": null,
            "layout": "IPY_MODEL_f5764a6287934e45a45c91a1473cad9a",
            "placeholder": "​",
            "style": "IPY_MODEL_ed5b79d180b74d3f971e17c58ce82727",
            "value": "(…)der/resolve/main/special_tokens_map.json: 100%"
          }
        },
        "63c5a606e1214119ae4b626076e0c4a8": {
          "model_module": "@jupyter-widgets/controls",
          "model_name": "FloatProgressModel",
          "model_module_version": "1.5.0",
          "state": {
            "_dom_classes": [],
            "_model_module": "@jupyter-widgets/controls",
            "_model_module_version": "1.5.0",
            "_model_name": "FloatProgressModel",
            "_view_count": null,
            "_view_module": "@jupyter-widgets/controls",
            "_view_module_version": "1.5.0",
            "_view_name": "ProgressView",
            "bar_style": "success",
            "description": "",
            "description_tooltip": null,
            "layout": "IPY_MODEL_8af3f1a82e50497cb303ac492e75c45a",
            "max": 125,
            "min": 0,
            "orientation": "horizontal",
            "style": "IPY_MODEL_69be3170f2b34aeda3535c2262f8d114",
            "value": 125
          }
        },
        "c17ad49dad9243f1a1441c35abc67a7b": {
          "model_module": "@jupyter-widgets/controls",
          "model_name": "HTMLModel",
          "model_module_version": "1.5.0",
          "state": {
            "_dom_classes": [],
            "_model_module": "@jupyter-widgets/controls",
            "_model_module_version": "1.5.0",
            "_model_name": "HTMLModel",
            "_view_count": null,
            "_view_module": "@jupyter-widgets/controls",
            "_view_module_version": "1.5.0",
            "_view_name": "HTMLView",
            "description": "",
            "description_tooltip": null,
            "layout": "IPY_MODEL_cd72be07840e43acae95b2440aede1e7",
            "placeholder": "​",
            "style": "IPY_MODEL_a8b4b36dcfa24d8e8c2e9d18a43dde0a",
            "value": " 125/125 [00:00&lt;00:00, 5.29kB/s]"
          }
        },
        "a93a6b40ab40471e9f6abcf398ea7821": {
          "model_module": "@jupyter-widgets/base",
          "model_name": "LayoutModel",
          "model_module_version": "1.2.0",
          "state": {
            "_model_module": "@jupyter-widgets/base",
            "_model_module_version": "1.2.0",
            "_model_name": "LayoutModel",
            "_view_count": null,
            "_view_module": "@jupyter-widgets/base",
            "_view_module_version": "1.2.0",
            "_view_name": "LayoutView",
            "align_content": null,
            "align_items": null,
            "align_self": null,
            "border": null,
            "bottom": null,
            "display": null,
            "flex": null,
            "flex_flow": null,
            "grid_area": null,
            "grid_auto_columns": null,
            "grid_auto_flow": null,
            "grid_auto_rows": null,
            "grid_column": null,
            "grid_gap": null,
            "grid_row": null,
            "grid_template_areas": null,
            "grid_template_columns": null,
            "grid_template_rows": null,
            "height": null,
            "justify_content": null,
            "justify_items": null,
            "left": null,
            "margin": null,
            "max_height": null,
            "max_width": null,
            "min_height": null,
            "min_width": null,
            "object_fit": null,
            "object_position": null,
            "order": null,
            "overflow": null,
            "overflow_x": null,
            "overflow_y": null,
            "padding": null,
            "right": null,
            "top": null,
            "visibility": null,
            "width": null
          }
        },
        "f5764a6287934e45a45c91a1473cad9a": {
          "model_module": "@jupyter-widgets/base",
          "model_name": "LayoutModel",
          "model_module_version": "1.2.0",
          "state": {
            "_model_module": "@jupyter-widgets/base",
            "_model_module_version": "1.2.0",
            "_model_name": "LayoutModel",
            "_view_count": null,
            "_view_module": "@jupyter-widgets/base",
            "_view_module_version": "1.2.0",
            "_view_name": "LayoutView",
            "align_content": null,
            "align_items": null,
            "align_self": null,
            "border": null,
            "bottom": null,
            "display": null,
            "flex": null,
            "flex_flow": null,
            "grid_area": null,
            "grid_auto_columns": null,
            "grid_auto_flow": null,
            "grid_auto_rows": null,
            "grid_column": null,
            "grid_gap": null,
            "grid_row": null,
            "grid_template_areas": null,
            "grid_template_columns": null,
            "grid_template_rows": null,
            "height": null,
            "justify_content": null,
            "justify_items": null,
            "left": null,
            "margin": null,
            "max_height": null,
            "max_width": null,
            "min_height": null,
            "min_width": null,
            "object_fit": null,
            "object_position": null,
            "order": null,
            "overflow": null,
            "overflow_x": null,
            "overflow_y": null,
            "padding": null,
            "right": null,
            "top": null,
            "visibility": null,
            "width": null
          }
        },
        "ed5b79d180b74d3f971e17c58ce82727": {
          "model_module": "@jupyter-widgets/controls",
          "model_name": "DescriptionStyleModel",
          "model_module_version": "1.5.0",
          "state": {
            "_model_module": "@jupyter-widgets/controls",
            "_model_module_version": "1.5.0",
            "_model_name": "DescriptionStyleModel",
            "_view_count": null,
            "_view_module": "@jupyter-widgets/base",
            "_view_module_version": "1.2.0",
            "_view_name": "StyleView",
            "description_width": ""
          }
        },
        "8af3f1a82e50497cb303ac492e75c45a": {
          "model_module": "@jupyter-widgets/base",
          "model_name": "LayoutModel",
          "model_module_version": "1.2.0",
          "state": {
            "_model_module": "@jupyter-widgets/base",
            "_model_module_version": "1.2.0",
            "_model_name": "LayoutModel",
            "_view_count": null,
            "_view_module": "@jupyter-widgets/base",
            "_view_module_version": "1.2.0",
            "_view_name": "LayoutView",
            "align_content": null,
            "align_items": null,
            "align_self": null,
            "border": null,
            "bottom": null,
            "display": null,
            "flex": null,
            "flex_flow": null,
            "grid_area": null,
            "grid_auto_columns": null,
            "grid_auto_flow": null,
            "grid_auto_rows": null,
            "grid_column": null,
            "grid_gap": null,
            "grid_row": null,
            "grid_template_areas": null,
            "grid_template_columns": null,
            "grid_template_rows": null,
            "height": null,
            "justify_content": null,
            "justify_items": null,
            "left": null,
            "margin": null,
            "max_height": null,
            "max_width": null,
            "min_height": null,
            "min_width": null,
            "object_fit": null,
            "object_position": null,
            "order": null,
            "overflow": null,
            "overflow_x": null,
            "overflow_y": null,
            "padding": null,
            "right": null,
            "top": null,
            "visibility": null,
            "width": null
          }
        },
        "69be3170f2b34aeda3535c2262f8d114": {
          "model_module": "@jupyter-widgets/controls",
          "model_name": "ProgressStyleModel",
          "model_module_version": "1.5.0",
          "state": {
            "_model_module": "@jupyter-widgets/controls",
            "_model_module_version": "1.5.0",
            "_model_name": "ProgressStyleModel",
            "_view_count": null,
            "_view_module": "@jupyter-widgets/base",
            "_view_module_version": "1.2.0",
            "_view_name": "StyleView",
            "bar_color": null,
            "description_width": ""
          }
        },
        "cd72be07840e43acae95b2440aede1e7": {
          "model_module": "@jupyter-widgets/base",
          "model_name": "LayoutModel",
          "model_module_version": "1.2.0",
          "state": {
            "_model_module": "@jupyter-widgets/base",
            "_model_module_version": "1.2.0",
            "_model_name": "LayoutModel",
            "_view_count": null,
            "_view_module": "@jupyter-widgets/base",
            "_view_module_version": "1.2.0",
            "_view_name": "LayoutView",
            "align_content": null,
            "align_items": null,
            "align_self": null,
            "border": null,
            "bottom": null,
            "display": null,
            "flex": null,
            "flex_flow": null,
            "grid_area": null,
            "grid_auto_columns": null,
            "grid_auto_flow": null,
            "grid_auto_rows": null,
            "grid_column": null,
            "grid_gap": null,
            "grid_row": null,
            "grid_template_areas": null,
            "grid_template_columns": null,
            "grid_template_rows": null,
            "height": null,
            "justify_content": null,
            "justify_items": null,
            "left": null,
            "margin": null,
            "max_height": null,
            "max_width": null,
            "min_height": null,
            "min_width": null,
            "object_fit": null,
            "object_position": null,
            "order": null,
            "overflow": null,
            "overflow_x": null,
            "overflow_y": null,
            "padding": null,
            "right": null,
            "top": null,
            "visibility": null,
            "width": null
          }
        },
        "a8b4b36dcfa24d8e8c2e9d18a43dde0a": {
          "model_module": "@jupyter-widgets/controls",
          "model_name": "DescriptionStyleModel",
          "model_module_version": "1.5.0",
          "state": {
            "_model_module": "@jupyter-widgets/controls",
            "_model_module_version": "1.5.0",
            "_model_name": "DescriptionStyleModel",
            "_view_count": null,
            "_view_module": "@jupyter-widgets/base",
            "_view_module_version": "1.2.0",
            "_view_name": "StyleView",
            "description_width": ""
          }
        }
      }
    }
  },
  "nbformat": 4,
  "nbformat_minor": 0
}